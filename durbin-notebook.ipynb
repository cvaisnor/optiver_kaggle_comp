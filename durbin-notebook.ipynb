{
 "cells": [
  {
   "cell_type": "markdown",
   "metadata": {},
   "source": [
    "# Optiver Trading At The Close\n",
    "\n",
    "[Competition](https://www.kaggle.com/competitions/optiver-trading-at-the-close)\n",
    "\n",
    "[GitHub Repository](https://github.com/cvaisnor/DNN-Final-Project)\n",
    "\n",
    "[Google Slides Presentation](https://docs.google.com/presentation/d/1Xc5F1_NveFi1il3GqHej2aqVmklR_jZU4kx6ZJhiDEM/edit?usp=sharing)"
   ]
  },
  {
   "cell_type": "markdown",
   "metadata": {},
   "source": [
    "# General Imports"
   ]
  },
  {
   "cell_type": "code",
   "execution_count": 8,
   "metadata": {},
   "outputs": [],
   "source": [
    "import os\n",
    "import numpy as np # linear algebra\n",
    "import pandas as pd # data processing, CSV file I/O (e.g. pd.read_csv)\n",
    "\n",
    "kaggle_environment = False # True if running on Kaggle, don't forget to add the dataset!\n",
    "\n",
    "if kaggle_environment:\n",
    "    data_path = '/kaggle/input/'\n",
    "else:\n",
    "    data_path = 'kaggle/input/'"
   ]
  },
  {
   "cell_type": "markdown",
   "metadata": {},
   "source": [
    "# Setting File Structure"
   ]
  },
  {
   "cell_type": "code",
   "execution_count": 9,
   "metadata": {},
   "outputs": [
    {
     "name": "stdout",
     "output_type": "stream",
     "text": [
      "kaggle/input/optiver-trading-at-the-close/.gitkeep\n",
      "kaggle/input/optiver-trading-at-the-close/public_timeseries_testing_util.py\n",
      "kaggle/input/optiver-trading-at-the-close/train.csv\n",
      "kaggle/input/optiver-trading-at-the-close/example_test_files/revealed_targets.csv\n",
      "kaggle/input/optiver-trading-at-the-close/example_test_files/test.csv\n",
      "kaggle/input/optiver-trading-at-the-close/example_test_files/sample_submission.csv\n",
      "kaggle/input/optiver-trading-at-the-close/optiver2023/__init__.py\n",
      "kaggle/input/optiver-trading-at-the-close/optiver2023/competition.cpython-310-x86_64-linux-gnu.so\n"
     ]
    }
   ],
   "source": [
    "for dirname, _, filenames in os.walk(data_path):\n",
    "    for filename in filenames:\n",
    "        print(os.path.join(dirname, filename))"
   ]
  },
  {
   "cell_type": "markdown",
   "metadata": {},
   "source": [
    "# Loading Data"
   ]
  },
  {
   "cell_type": "code",
   "execution_count": 10,
   "metadata": {},
   "outputs": [],
   "source": [
    "train = pd.read_csv(data_path + 'optiver-trading-at-the-close/train.csv')\n",
    "revealed_targets = pd.read_csv(data_path + 'optiver-trading-at-the-close/example_test_files/revealed_targets.csv')\n",
    "test = pd.read_csv(data_path + 'optiver-trading-at-the-close/example_test_files/test.csv')\n",
    "sample_submission = pd.read_csv(data_path + 'optiver-trading-at-the-close/example_test_files/sample_submission.csv')"
   ]
  },
  {
   "cell_type": "markdown",
   "metadata": {},
   "source": [
    "# Feature Engineering Section"
   ]
  },
  {
   "cell_type": "code",
   "execution_count": 11,
   "metadata": {},
   "outputs": [
    {
     "name": "stdout",
     "output_type": "stream",
     "text": [
      "<class 'pandas.core.frame.DataFrame'>\n",
      "RangeIndex: 5237980 entries, 0 to 5237979\n",
      "Data columns (total 17 columns):\n",
      " #   Column                   Dtype  \n",
      "---  ------                   -----  \n",
      " 0   stock_id                 int64  \n",
      " 1   date_id                  int64  \n",
      " 2   seconds_in_bucket        int64  \n",
      " 3   imbalance_size           float64\n",
      " 4   imbalance_buy_sell_flag  int64  \n",
      " 5   reference_price          float64\n",
      " 6   matched_size             float64\n",
      " 7   far_price                float64\n",
      " 8   near_price               float64\n",
      " 9   bid_price                float64\n",
      " 10  bid_size                 float64\n",
      " 11  ask_price                float64\n",
      " 12  ask_size                 float64\n",
      " 13  wap                      float64\n",
      " 14  target                   float64\n",
      " 15  time_id                  int64  \n",
      " 16  row_id                   object \n",
      "dtypes: float64(11), int64(5), object(1)\n",
      "memory usage: 679.4+ MB\n"
     ]
    }
   ],
   "source": [
    "train.info()"
   ]
  },
  {
   "cell_type": "code",
   "execution_count": 12,
   "metadata": {},
   "outputs": [],
   "source": [
    "# fill null values with zero for now\n",
    "train = train.fillna(0)\n",
    "\n",
    "# drop row_id column\n",
    "train = train.drop(columns=['row_id'])\n",
    "\n",
    "y = train['target'].values\n",
    "X = train.drop(columns='target')\n",
    "\n",
    "from sklearn.preprocessing import StandardScaler\n",
    "\n",
    "# scale all X columns that are floats\n",
    "float_columns = [col for col in X.columns if X[col].dtype == 'float64']\n",
    "scaler = StandardScaler()\n",
    "X[float_columns] = scaler.fit_transform(X[float_columns])"
   ]
  },
  {
   "cell_type": "markdown",
   "metadata": {},
   "source": [
    "All feature transformations should be combined into a generate_feature() function. This can then be applied to the test data will in the for loop for the Optiver API."
   ]
  },
  {
   "cell_type": "code",
   "execution_count": 13,
   "metadata": {},
   "outputs": [],
   "source": [
    "def generate_features(test):\n",
    "    test.drop(columns=['row_id'], inplace=True)\n",
    "    test = scaler.transform(test)\n",
    "    return test"
   ]
  },
  {
   "cell_type": "markdown",
   "metadata": {},
   "source": [
    "# Slicing\n",
    "\n",
    "Generally, don't change the cell below. It is used to slice the data into training and validation sets."
   ]
  },
  {
   "cell_type": "code",
   "execution_count": 14,
   "metadata": {},
   "outputs": [],
   "source": [
    "# imports\n",
    "from sklearn.model_selection import train_test_split\n",
    "\n",
    "X_train, X_test, y_train, y_test = train_test_split(X, y, test_size=0.2, random_state=42)"
   ]
  },
  {
   "cell_type": "code",
   "execution_count": 15,
   "metadata": {},
   "outputs": [
    {
     "name": "stdout",
     "output_type": "stream",
     "text": [
      "X_train type:  <class 'pandas.core.frame.DataFrame'>\n",
      "X_test type:  <class 'pandas.core.frame.DataFrame'>\n",
      "\n",
      "y_train type:  <class 'numpy.ndarray'>\n",
      "y_test type:  <class 'numpy.ndarray'>\n"
     ]
    }
   ],
   "source": [
    "# check types of outputs\n",
    "print('X_train type: ', type(X_train))\n",
    "print('X_test type: ', type(X_test))\n",
    "print()\n",
    "print('y_train type: ', type(y_train))\n",
    "print('y_test type: ', type(y_test))"
   ]
  },
  {
   "cell_type": "code",
   "execution_count": 16,
   "metadata": {},
   "outputs": [],
   "source": [
    "# convert to numpy arrays\n",
    "X_train = X_train.values\n",
    "X_test = X_test.values"
   ]
  },
  {
   "cell_type": "markdown",
   "metadata": {},
   "source": [
    "# Model Development"
   ]
  },
  {
   "cell_type": "code",
   "execution_count": 17,
   "metadata": {},
   "outputs": [],
   "source": [
    "# imports\n",
    "import torch\n",
    "import torch.nn as nn\n",
    "import torch.nn.functional as F\n",
    "import torch.optim as optim\n",
    "from tqdm import tqdm"
   ]
  },
  {
   "cell_type": "code",
   "execution_count": 20,
   "metadata": {},
   "outputs": [
    {
     "name": "stdout",
     "output_type": "stream",
     "text": [
      "PyTorch Version:  2.1.0\n",
      "CUDA Available:  False\n"
     ]
    }
   ],
   "source": [
    "print('PyTorch Version: ', torch.__version__)\n",
    "print('CUDA Available: ', torch.cuda.is_available())\n",
    "if torch.cuda.is_available():\n",
    "    print('Device Type: ', torch.cuda.get_device_name(0))\n",
    "device = torch.device('cuda:0' if torch.cuda.is_available() else 'cpu')"
   ]
  },
  {
   "cell_type": "code",
   "execution_count": 21,
   "metadata": {},
   "outputs": [],
   "source": [
    "class PyTorchMLP(nn.Module):\n",
    "    def __init__(self, input_size, hidden_size):\n",
    "        super(PyTorchMLP, self).__init__()\n",
    "        self.input_size = input_size\n",
    "        self.hidden_size = hidden_size\n",
    "\n",
    "\n",
    "        self.fc1 = nn.Linear(self.input_size, self.hidden_size)\n",
    "        self.fc2 = nn.Linear(self.hidden_size, self.hidden_size)\n",
    "        self.fc3 = nn.Linear(self.hidden_size, hidden_size)  # Output is a single floating point number\n",
    "        self.fc4 = nn.Linear(self.hidden_size, 1)\n",
    "\n",
    "    def forward(self, x):\n",
    "        x = F.relu(self.fc1(x))\n",
    "        x = self.fc2(x)\n",
    "        x = F.relu(self.fc3(x))\n",
    "        x = self.fc4(x)\n",
    "        return x\n",
    "\n",
    "    def fit(self, X_train, y_train, X_test, y_test, epochs, batch_size, learning_rate, device, verbose=True):\n",
    "        self.to(device)\n",
    "        self.train()\n",
    "        optimizer = optim.Adam(self.parameters(), lr=learning_rate)\n",
    "        criterion = nn.MSELoss()\n",
    "        X_train_t = torch.tensor(X_train, dtype=torch.float32, device=device)\n",
    "        y_train_t = torch.tensor(y_train, dtype=torch.float32, device=device)\n",
    "        X_test_t = torch.tensor(X_test, dtype=torch.float32, device=device)\n",
    "        y_test_t = torch.tensor(y_test, dtype=torch.float32, device=device)\n",
    "        for epoch in tqdm(range(epochs), desc='Epochs'):\n",
    "            for i in range(0, len(X_train), batch_size):\n",
    "                batch_X = X_train_t[i:i+batch_size]\n",
    "                batch_y = y_train_t[i:i+batch_size]\n",
    "                optimizer.zero_grad()\n",
    "                outputs = self(batch_X)\n",
    "                loss = criterion(outputs, batch_y.view_as(outputs))\n",
    "                loss.backward()\n",
    "                optimizer.step()\n",
    "            self.eval()\n",
    "            with torch.no_grad():\n",
    "                y_pred = self(X_test_t)\n",
    "                test_loss = criterion(y_pred, y_test_t.view_as(y_pred))\n",
    "                if verbose:\n",
    "                    print(f'Epoch: {epoch+1}/{epochs}, Loss: {loss.item()}, Test Loss: {test_loss.item()}')\n",
    "            self.train()\n",
    "\n",
    "    def predict(self, X_test, device):\n",
    "        self.to(device)\n",
    "        self.eval()\n",
    "        with torch.no_grad():\n",
    "            X_test_t = torch.tensor(X_test, dtype=torch.float32, device=device)\n",
    "            y_pred = self(X_test_t)\n",
    "        return y_pred.cpu().numpy()"
   ]
  },
  {
   "cell_type": "code",
   "execution_count": 22,
   "metadata": {},
   "outputs": [],
   "source": [
    "# creating the model and fitting it on the data from the original sklearn train test split\n",
    "model = PyTorchMLP(input_size=X_train.shape[1], hidden_size=128)"
   ]
  },
  {
   "cell_type": "code",
   "execution_count": null,
   "metadata": {},
   "outputs": [
    {
     "name": "stderr",
     "output_type": "stream",
     "text": [
      "Epochs:  10%|█████▌                                                  | 1/10 [00:30<04:35, 30.60s/it]"
     ]
    },
    {
     "name": "stdout",
     "output_type": "stream",
     "text": [
      "Epoch: 1/10, Loss: 65.2214126586914, Test Loss: 89.49969482421875\n"
     ]
    },
    {
     "name": "stderr",
     "output_type": "stream",
     "text": [
      "Epochs:  20%|███████████▏                                            | 2/10 [01:00<04:01, 30.16s/it]"
     ]
    },
    {
     "name": "stdout",
     "output_type": "stream",
     "text": [
      "Epoch: 2/10, Loss: 65.23687744140625, Test Loss: 89.50027465820312\n"
     ]
    },
    {
     "name": "stderr",
     "output_type": "stream",
     "text": [
      "Epochs:  30%|████████████████▊                                       | 3/10 [02:13<05:47, 49.62s/it]"
     ]
    },
    {
     "name": "stdout",
     "output_type": "stream",
     "text": [
      "Epoch: 3/10, Loss: 65.2374267578125, Test Loss: 89.50032806396484\n"
     ]
    },
    {
     "name": "stderr",
     "output_type": "stream",
     "text": [
      "Epochs:  40%|██████████████████████▍                                 | 4/10 [03:12<05:21, 53.59s/it]"
     ]
    },
    {
     "name": "stdout",
     "output_type": "stream",
     "text": [
      "Epoch: 4/10, Loss: 65.2366714477539, Test Loss: 89.50027465820312\n"
     ]
    }
   ],
   "source": [
    "model.fit(X_train, y_train, X_test, y_test, epochs=10, batch_size=256, learning_rate=0.001, device=device)"
   ]
  },
  {
   "cell_type": "markdown",
   "metadata": {},
   "source": [
    "# Generating Predictions\n",
    "\n",
    "Only for Kaggle:\n",
    "When uploading notebook, make sure to add the Optiver data on the right side of the screen."
   ]
  },
  {
   "cell_type": "code",
   "execution_count": null,
   "metadata": {},
   "outputs": [],
   "source": [
    "if kaggle_environment:\n",
    "    import optiver2023\n",
    "    env = optiver2023.make_env()\n",
    "    iter_test = env.iter_test()"
   ]
  },
  {
   "cell_type": "code",
   "execution_count": null,
   "metadata": {},
   "outputs": [],
   "source": [
    "if kaggle_environment:\n",
    "    # To count how many time the \"for loop\" runs.\n",
    "    counter = 0\n",
    "\n",
    "    # init 3 empty lists\n",
    "    test_ls, revealed_targets_ls, sample_prediction_ls = [], [], []\n",
    "\n",
    "    for (test, revealed_targets, sample_prediction) in iter_test:\n",
    "        # Append the dataframe that API return into the list.\n",
    "        test_ls.append(test.copy())\n",
    "        revealed_targets_ls.append(revealed_targets.copy())\n",
    "        sample_prediction_ls.append(sample_prediction.copy())\n",
    "\n",
    "        # Generate features\n",
    "        test = generate_features(test)\n",
    "\n",
    "        # Writes our predictions \n",
    "        sample_prediction[\"target\"] = model.predict(test)\n",
    "        \n",
    "        # This line submit our predictions.\n",
    "        env.predict(sample_prediction)\n",
    "        counter += 1\n",
    "\n",
    "    print('\\n', '=' * 50, sep=\"\")\n",
    "    print(f\"counter: {counter}\")"
   ]
  },
  {
   "cell_type": "code",
   "execution_count": null,
   "metadata": {},
   "outputs": [],
   "source": []
  }
 ],
 "metadata": {
  "kernelspec": {
   "display_name": "Python 3 (ipykernel)",
   "language": "python",
   "name": "python3"
  },
  "language_info": {
   "codemirror_mode": {
    "name": "ipython",
    "version": 3
   },
   "file_extension": ".py",
   "mimetype": "text/x-python",
   "name": "python",
   "nbconvert_exporter": "python",
   "pygments_lexer": "ipython3",
   "version": "3.10.12"
  }
 },
 "nbformat": 4,
 "nbformat_minor": 4
}
