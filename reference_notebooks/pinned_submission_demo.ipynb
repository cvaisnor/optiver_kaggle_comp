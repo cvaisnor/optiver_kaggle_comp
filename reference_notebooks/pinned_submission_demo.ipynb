{
 "cells": [
  {
   "cell_type": "code",
   "execution_count": 1,
   "id": "9c268bd2",
   "metadata": {
    "execution": {
     "iopub.execute_input": "2023-09-27T22:06:47.069331Z",
     "iopub.status.busy": "2023-09-27T22:06:47.068894Z",
     "iopub.status.idle": "2023-09-27T22:06:48.067372Z",
     "shell.execute_reply": "2023-09-27T22:06:48.066029Z"
    },
    "papermill": {
     "duration": 1.006019,
     "end_time": "2023-09-27T22:06:48.070282",
     "exception": false,
     "start_time": "2023-09-27T22:06:47.064263",
     "status": "completed"
    },
    "tags": []
   },
   "outputs": [],
   "source": [
    "import optiver2023\n",
    "env = optiver2023.make_env()\n",
    "iter_test = env.iter_test()"
   ]
  },
  {
   "cell_type": "code",
   "execution_count": 2,
   "id": "3c78e041",
   "metadata": {
    "execution": {
     "iopub.execute_input": "2023-09-27T22:06:48.076968Z",
     "iopub.status.busy": "2023-09-27T22:06:48.076254Z",
     "iopub.status.idle": "2023-09-27T22:06:49.099521Z",
     "shell.execute_reply": "2023-09-27T22:06:49.098138Z"
    },
    "papermill": {
     "duration": 1.030056,
     "end_time": "2023-09-27T22:06:49.102737",
     "exception": false,
     "start_time": "2023-09-27T22:06:48.072681",
     "status": "completed"
    },
    "tags": []
   },
   "outputs": [
    {
     "name": "stdout",
     "output_type": "stream",
     "text": [
      "This version of the API is not optimized and should not be used to estimate the runtime of your code on the hidden test set.\n",
      "   stock_id  date_id  seconds_in_bucket  imbalance_size  \\\n",
      "0         0      478                  0      3753451.43   \n",
      "1         1      478                  0       985977.11   \n",
      "2         2      478                  0       599128.74   \n",
      "\n",
      "   imbalance_buy_sell_flag  reference_price  matched_size  far_price  \\\n",
      "0                       -1         0.999875   11548975.43        NaN   \n",
      "1                       -1         1.000245    3850033.97        NaN   \n",
      "2                        1         1.000584    4359198.25        NaN   \n",
      "\n",
      "   near_price  bid_price  bid_size  ask_price  ask_size  wap   row_id  \n",
      "0         NaN   0.999875  22940.00   1.000050   9177.60  1.0  478_0_0  \n",
      "1         NaN   0.999940   1967.90   1.000601  19692.00  1.0  478_0_1  \n",
      "2         NaN   0.999918   4488.22   1.000636  34955.12  1.0  478_0_2  \n",
      "   stock_id  date_id  seconds_in_bucket  revealed_target  revealed_date_id  \\\n",
      "0         0      478                  0        -2.310276               477   \n",
      "1         1      478                  0       -12.850165               477   \n",
      "2         2      478                  0        -0.439882               477   \n",
      "\n",
      "   revealed_time_id  \n",
      "0             26235  \n",
      "1             26235  \n",
      "2             26235  \n",
      "    row_id  target\n",
      "0  478_0_0     1.0\n",
      "1  478_0_1     1.0\n",
      "2  478_0_2     1.0\n"
     ]
    }
   ],
   "source": [
    "counter = 0\n",
    "for (test, revealed_targets, sample_prediction) in iter_test:\n",
    "    if counter == 0:\n",
    "        print(test.head(3))\n",
    "        print(revealed_targets.head(3))\n",
    "        print(sample_prediction.head(3))\n",
    "    sample_prediction['target'] = 0\n",
    "    env.predict(sample_prediction)\n",
    "    counter += 1"
   ]
  }
 ],
 "metadata": {
  "kernelspec": {
   "display_name": "Python 3",
   "language": "python",
   "name": "python3"
  },
  "language_info": {
   "codemirror_mode": {
    "name": "ipython",
    "version": 3
   },
   "file_extension": ".py",
   "mimetype": "text/x-python",
   "name": "python",
   "nbconvert_exporter": "python",
   "pygments_lexer": "ipython3",
   "version": "3.10.12"
  },
  "papermill": {
   "default_parameters": {},
   "duration": 7.05409,
   "end_time": "2023-09-27T22:06:49.831937",
   "environment_variables": {},
   "exception": null,
   "input_path": "__notebook__.ipynb",
   "output_path": "__notebook__.ipynb",
   "parameters": {},
   "start_time": "2023-09-27T22:06:42.777847",
   "version": "2.4.0"
  }
 },
 "nbformat": 4,
 "nbformat_minor": 5
}
