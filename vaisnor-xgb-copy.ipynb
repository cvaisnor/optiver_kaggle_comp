{
 "cells": [
  {
   "cell_type": "markdown",
   "metadata": {},
   "source": [
    "# Optiver Trading At The Close\n",
    "\n",
    "[Competition](https://www.kaggle.com/competitions/optiver-trading-at-the-close)\n",
    "\n",
    "[GitHub Repository](https://github.com/cvaisnor/DNN-Final-Project)\n",
    "\n",
    "[Google Slides Presentation](https://docs.google.com/presentation/d/1Xc5F1_NveFi1il3GqHej2aqVmklR_jZU4kx6ZJhiDEM/edit?usp=sharing)"
   ]
  },
  {
   "cell_type": "markdown",
   "metadata": {},
   "source": [
    "# General Imports"
   ]
  },
  {
   "cell_type": "code",
   "execution_count": 2,
   "metadata": {},
   "outputs": [],
   "source": [
    "import pandas as pd\n",
    "import matplotlib.pyplot as plt\n",
    "\n",
    "def load_data(kaggle_environment=False):\n",
    "    '''Loads and returns the data files.'''\n",
    "    if kaggle_environment:\n",
    "        data_path = '/kaggle/input/'\n",
    "    else:\n",
    "        data_path = 'kaggle/input/'\n",
    "\n",
    "    train = pd.read_csv(data_path + 'optiver-trading-at-the-close/train.csv')\n",
    "    test = pd.read_csv(data_path + 'optiver-trading-at-the-close/example_test_files/test.csv')\n",
    "    revealed_targets = pd.read_csv(data_path + 'optiver-trading-at-the-close/example_test_files/revealed_targets.csv')\n",
    "    sample_submission = pd.read_csv(data_path + 'optiver-trading-at-the-close/example_test_files/sample_submission.csv')\n",
    "\n",
    "    return train, test, revealed_targets, sample_submission\n",
    "\n",
    "def submit_dummy_predictions(env, predictions):\n",
    "    '''Submits a dummy prediction to the Optiver API. Use when you have an error during processing\n",
    "    of iter_test and you do not want to re-run the whole notebook to figure out if you fixed it.'''\n",
    "    predictions[\"target\"] = [0 for i in range(predictions.shape[0])]\n",
    "    env.predict(predictions)\n",
    "\n",
    "def plot_predictions(actuals, predicted):\n",
    "    '''Plots actual vs predicted values to get a sense of whether the predictions make sense.'''\n",
    "\n",
    "    plt.figure(figsize=(10, 6))\n",
    "    plt.plot(actuals, label='Actual')\n",
    "    plt.plot(predicted, label='Predicted')\n",
    "    plt.title('Actual vs Predicted Values')\n",
    "    plt.xlabel('Samples')\n",
    "    plt.ylabel('Values')\n",
    "    plt.legend()\n",
    "    plt.show()\n",
    "\n",
    "import pandas as pd\n",
    "import numpy as np\n",
    "\n",
    "from sklearn.base import BaseEstimator, TransformerMixin\n",
    "from sklearn.preprocessing import PolynomialFeatures\n",
    "from sklearn.experimental import enable_iterative_imputer\n",
    "from sklearn.impute import IterativeImputer\n",
    "\n",
    "\n",
    "class LogFeatures(BaseEstimator, TransformerMixin):\n",
    "    '''Transformer for applying logarithmic transformation to specified columns.'''\n",
    "    def __init__(self, columns):\n",
    "        self.columns = columns\n",
    "\n",
    "    def fit(self, X, y=None):\n",
    "        return self\n",
    "\n",
    "    def transform(self, X, y=None):\n",
    "        for column in self.columns:\n",
    "            X[f'{column}_log'] = np.log1p(X[column].clip(lower=0.00001))\n",
    "        return X\n",
    "\n",
    "class CombineFeatures(BaseEstimator, TransformerMixin):\n",
    "    '''Transformer to combine features by multiplication.'''\n",
    "    def __init__(self, combined_features_list):\n",
    "        self.combined_features_list = combined_features_list\n",
    "\n",
    "    def fit(self, X, y=None):\n",
    "        return self\n",
    "\n",
    "    def transform(self, X, y=None):\n",
    "        for combined_features in self.combined_features_list:\n",
    "            combined_feature_name = '_'.join(combined_features)\n",
    "            X[combined_feature_name] = X[combined_features].prod(axis=1)\n",
    "        return X\n",
    "\n",
    "class SubtractFeatures(BaseEstimator, TransformerMixin):\n",
    "    \"\"\"Transformer to subtract one feature from another.\"\"\"\n",
    "\n",
    "    def __init__(self, base_feature, feature_to_subtract):\n",
    "        self.feature_to_subtract = feature_to_subtract\n",
    "        self.base_feature = base_feature\n",
    "\n",
    "    def fit(self, X, y=None):\n",
    "        return self\n",
    "\n",
    "    def transform(self, X):\n",
    "        new_feature_name = f\"{self.base_feature}_minus_{self.feature_to_subtract}\"\n",
    "        X[new_feature_name] = X[self.base_feature] - X[self.feature_to_subtract]\n",
    "\n",
    "        return X\n",
    "\n",
    "class LagFeatures(BaseEstimator, TransformerMixin):\n",
    "    '''Transformer for creating lag features for specified columns and shift sizes.'''\n",
    "    def __init__(self, features, shift_sizes, default_value):\n",
    "        self.features = features\n",
    "        self.shift_sizes = shift_sizes\n",
    "        self.default_value = default_value\n",
    "\n",
    "    def fit(self, X, y=None):\n",
    "        return self\n",
    "\n",
    "    def transform(self, X, y=None):\n",
    "        for feature in self.features:\n",
    "            for shift_size in self.shift_sizes:\n",
    "                lag_col = f'{feature}_lag_{shift_size}'\n",
    "                X[lag_col] = X.groupby(['stock_id', 'date_id'])[feature].shift(shift_size)\n",
    "                X[lag_col].fillna(self.default_value, inplace=True)\n",
    "\n",
    "        return X\n",
    "\n",
    "\n",
    "class RollingMeanFeatures(BaseEstimator, TransformerMixin):\n",
    "    '''Transformer for calculating rolling mean of each feature over each specified window size.'''\n",
    "    def __init__(self, features, window_sizes):\n",
    "        self.features = features\n",
    "        self.window_sizes = window_sizes\n",
    "\n",
    "    def fit(self, X, y=None):\n",
    "        return self\n",
    "\n",
    "    def transform(self, X, y=None):\n",
    "        rolling_mean_columns = []\n",
    "\n",
    "        for feature in self.features:\n",
    "            for window_size in self.window_sizes:\n",
    "                rolling_mean_col = f'{feature}_rolling_mean{window_size}'\n",
    "                rolling_mean_columns.append(rolling_mean_col)\n",
    "\n",
    "                X[rolling_mean_col] = X.groupby(['stock_id', 'date_id'])[feature].rolling(window=window_size).mean().reset_index(level=[0,1], drop=True)\n",
    "\n",
    "        for col in rolling_mean_columns:\n",
    "            X[col].fillna(1.0, inplace=True)\n",
    "\n",
    "        return X\n",
    "\n",
    "\n",
    "class DiffFeatures(BaseEstimator, TransformerMixin):\n",
    "    '''Transformer for computing the difference of each feature column (i.e., first discrete difference).'''\n",
    "    def __init__(self, features):\n",
    "        self.features = features\n",
    "\n",
    "    def fit(self, X, y=None):\n",
    "        return self\n",
    "\n",
    "    def transform(self, X, y=None):\n",
    "        for feature in self.features:\n",
    "            diff_col = f'{feature}_diff'\n",
    "\n",
    "            X[diff_col] = X.groupby(['stock_id', 'date_id'])[feature].diff()\n",
    "            X[diff_col].fillna(0.0, inplace=True)\n",
    "\n",
    "        return X\n",
    "\n",
    "\n",
    "class ExpandingMeanFeatures(BaseEstimator, TransformerMixin):\n",
    "    '''Transformer for calculating the expanding mean of each of the feature columns.'''\n",
    "    def __init__(self, features):\n",
    "        self.features = features\n",
    "\n",
    "    def fit(self, X, y=None):\n",
    "        return self\n",
    "\n",
    "    def transform(self, X, y=None):\n",
    "        expanding_mean_columns = []\n",
    "\n",
    "        for feature in self.features:\n",
    "            expanding_mean_col = f'{feature}_expanding_mean'\n",
    "            expanding_mean_columns.append(expanding_mean_col)\n",
    "\n",
    "            X[expanding_mean_col] = X.groupby(['stock_id', 'date_id'])[feature].expanding().mean().reset_index(level=[0,1], drop=True)\n",
    "\n",
    "        for col in expanding_mean_columns:\n",
    "            X[col].fillna(1.0, inplace=True)\n",
    "\n",
    "        return X\n",
    "\n",
    "class DropColumns(BaseEstimator, TransformerMixin):\n",
    "    '''Drops columns from the data frame.'''\n",
    "    def __init__(self, columns):\n",
    "        self.columns = columns\n",
    "\n",
    "    def fit(self, X, y=None):\n",
    "        return self\n",
    "\n",
    "    def transform(self, X, y=None):\n",
    "        all_columns = X.columns\n",
    "        drop_columns = []\n",
    "        for column in self.columns:\n",
    "            if column in all_columns:\n",
    "                drop_columns.append(column)\n",
    "        return X.drop(columns=drop_columns)\n",
    "\n",
    "class ForwardFillValues(BaseEstimator, TransformerMixin):\n",
    "    '''Transformer for forward filling NaN values in the DataFrame, grouped by stock_id.'''\n",
    "\n",
    "    def fit(self, X, y=None):\n",
    "        return self\n",
    "\n",
    "    def transform(self, X, y=None):\n",
    "        for column in X.columns:\n",
    "            # X[column] = X.groupby(['stock_id', 'date_id'])[column].transform(lambda group: group.ffill())\n",
    "            X[column] = X.groupby('stock_id')[column].transform(lambda group: group.ffill())\n",
    "        return X\n",
    "\n",
    "\n",
    "class FillZero(BaseEstimator, TransformerMixin):\n",
    "    '''Transformer for replacing NaN values with zero in the DataFrame.'''\n",
    "    def fit(self, X, y=None):\n",
    "        return self\n",
    "\n",
    "    def transform(self, X, y=None):\n",
    "        X = X.fillna(0.0)\n",
    "        return X\n",
    "\n",
    "class FillOne(BaseEstimator, TransformerMixin):\n",
    "    '''Transformer for replacing NaN values with one in the DataFrame.'''\n",
    "    def fit(self, X, y=None):\n",
    "        return self\n",
    "\n",
    "    def transform(self, X, y=None):\n",
    "        X = X.fillna(1.0)\n",
    "        return X\n",
    "\n",
    "class DataFrameWrapper(BaseEstimator, TransformerMixin):\n",
    "    '''Wrapper for transforming output of a transformer to a DataFrame with optional specified columns.'''\n",
    "    def __init__(self, transformer, columns=None):\n",
    "        self.transformer = transformer\n",
    "        self.columns = columns\n",
    "\n",
    "    def fit(self, X, y=None):\n",
    "        self.transformer.fit(X, y)\n",
    "        return self\n",
    "\n",
    "    def transform(self, X):\n",
    "        result = self.transformer.transform(X)\n",
    "        if isinstance(result, pd.DataFrame):\n",
    "            return result\n",
    "        if self.columns is None:\n",
    "            columns = X.columns\n",
    "        else:\n",
    "            columns = []\n",
    "            for column in X.columns:\n",
    "                if column in self.columns:\n",
    "                    columns.append(column)\n",
    "        return pd.DataFrame(result, columns=columns)\n",
    "\n",
    "class PolynomialFeaturesWrapper(BaseEstimator, TransformerMixin):\n",
    "    '''Transformer for generating polynomial and interaction features with specified degree.'''\n",
    "    def __init__(self, degree=2):\n",
    "        self.degree = degree\n",
    "        self.poly = PolynomialFeatures(degree=self.degree, include_bias=False)\n",
    "        self.new_feature_names = None\n",
    "\n",
    "    def fit(self, X, y=None):\n",
    "        self.poly.fit(X)\n",
    "        self.new_feature_names = self.poly.get_feature_names_out(X.columns)\n",
    "        return self\n",
    "\n",
    "    def transform(self, X):\n",
    "        transformed_array = self.poly.transform(X)\n",
    "        return pd.DataFrame(transformed_array, columns=self.new_feature_names)\n",
    "\n",
    "class MissingValueImputer(BaseEstimator, TransformerMixin):\n",
    "    '''Impute missing values in specified columns of a DataFrame using IterativeImputer.'''\n",
    "    def __init__(self, columns, max_iter=10, random_state=0):\n",
    "        self.columns = columns\n",
    "        self.max_iter = max_iter\n",
    "        self.random_state = random_state\n",
    "\n",
    "    def fit(self, X, y=None):\n",
    "        return self\n",
    "\n",
    "    def transform(self, X, y=None):\n",
    "        columns_to_impute = [col for col in self.columns if col in X.columns]\n",
    "\n",
    "        # Select the columns for imputation\n",
    "        columns_data = X[columns_to_impute]\n",
    "\n",
    "        # Check if there are any missing values and if the columns are numeric\n",
    "        if columns_data.isna().any().any() and columns_data.select_dtypes(include='number').shape[1] == len(columns_to_impute):\n",
    "            imputer = IterativeImputer(max_iter=self.max_iter, random_state=self.random_state)\n",
    "\n",
    "            # Apply imputation\n",
    "            imputed_data = imputer.fit_transform(columns_data)\n",
    "            imputed_df = pd.DataFrame(imputed_data, columns=columns_to_impute, index=X.index)\n",
    "\n",
    "            # Update the original DataFrame\n",
    "            X.update(imputed_df)\n",
    "        return X\n"
   ]
  },
  {
   "cell_type": "code",
   "execution_count": 3,
   "metadata": {},
   "outputs": [],
   "source": [
    "import os\n",
    "import numpy as np\n",
    "import pandas as pd\n",
    "import importlib\n",
    "\n",
    "# import helpers\n",
    "\n",
    "kaggle_environment = False # True if running on Kaggle, don't forget to add the dataset!\n",
    "\n",
    "# from helpers.common import load_data, plot_predictions, submit_dummy_predictions\n",
    "# from helpers.pipeline import LogFeatures, LagFeatures, RollingMeanFeatures, DiffFeatures, ExpandingMeanFeatures, \\\n",
    "# ForwardFillValues, FillZero, DataFrameWrapper, PolynomialFeaturesWrapper, MissingValueImputer, DropColumns, FillOne\n",
    "\n",
    "# if not kaggle_environment:\n",
    "#     # Reload the modules\n",
    "#     importlib.reload(helpers.common)\n",
    "#     importlib.reload(helpers.pipeline)"
   ]
  },
  {
   "cell_type": "markdown",
   "metadata": {},
   "source": [
    "# Loading Data"
   ]
  },
  {
   "cell_type": "code",
   "execution_count": 4,
   "metadata": {},
   "outputs": [],
   "source": [
    "original_train, test, revealed_targets, sample_submission = load_data(kaggle_environment)"
   ]
  },
  {
   "cell_type": "code",
   "execution_count": 5,
   "metadata": {},
   "outputs": [],
   "source": [
    "split_ratio = 0.8  # 80% for training, 20% for testing\n",
    "split_idx = int(len(original_train) * split_ratio)\n",
    "\n",
    "train = original_train.iloc[:split_idx]\n",
    "test = original_train.iloc[split_idx:]\n",
    "\n",
    "train = train.dropna(subset=['target', 'imbalance_size'])\n",
    "test = test.dropna(subset=['target', 'imbalance_size'])\n",
    "\n",
    "# train = train.dropna()\n",
    "# test = test.dropna()\n",
    "\n",
    "y = train['target'].values\n",
    "y_test = test['target'].values"
   ]
  },
  {
   "cell_type": "markdown",
   "metadata": {},
   "source": [
    "# Feature Engineering Section"
   ]
  },
  {
   "cell_type": "code",
   "execution_count": 6,
   "metadata": {},
   "outputs": [
    {
     "name": "stdout",
     "output_type": "stream",
     "text": [
      "CPU times: user 6.71 s, sys: 818 ms, total: 7.52 s\n",
      "Wall time: 7.33 s\n"
     ]
    }
   ],
   "source": [
    "%%time\n",
    "from sklearn.pipeline import Pipeline\n",
    "from sklearn.compose import ColumnTransformer\n",
    "from sklearn.preprocessing import OneHotEncoder, StandardScaler\n",
    "\n",
    "# drop_columns=['target', 'bid_size', 'ask_size', 'imbalance_size', 'matched_size', 'time_id', 'row_id', 'currently_scored']\n",
    "drop_columns=['target', 'time_id', 'row_id', 'currently_scored']\n",
    "# drop_columns=['seconds_in_bucket', 'target', 'bid_size', 'ask_size', 'imbalance_size', 'matched_size', 'time_id', 'row_id', 'currently_scored']\n",
    "\n",
    "# Main Pipeline\n",
    "pipeline = Pipeline([\n",
    "    # ('logs', LogFeatures(['imbalance_size', 'matched_size', 'bid_size', 'ask_size'])),\n",
    "    ('combine_features', CombineFeatures([\n",
    "        ['imbalance_buy_sell_flag', 'reference_price', 'ask_price', 'bid_price'],\n",
    "        ['imbalance_buy_sell_flag', 'far_price', 'near_price', 'ask_price'],\n",
    "    ])),\n",
    "    ('subtract_features', SubtractFeatures('ask_price', 'bid_price')),\n",
    "    ('wap_lags', LagFeatures(['wap', 'imbalance_buy_sell_flag_reference_price_ask_price_bid_price', 'ask_price_minus_bid_price'], [1, 2], 1.0)),\n",
    "    ('matched_size_lags', LagFeatures(['matched_size'], [1, 2], 0.0)),\n",
    "    ('wap_rolling_means', RollingMeanFeatures(['wap'], [2])),\n",
    "    ('diff_features', DiffFeatures(['wap', 'matched_size', 'ask_price', 'reference_price'])),\n",
    "    # ('diff_features', DiffFeatures(['wap', 'imbalance_buy_sell_flag', 'matched_size', 'ask_price', 'reference_price'])),\n",
    "    ('diff_features_2', DiffFeatures(['wap_diff', 'matched_size_diff', 'ask_price_diff', 'reference_price_diff'])),\n",
    "    # ('diff_features_3', DiffFeatures(['wap_diff_diff', 'matched_size_diff_diff', 'ask_price_diff_diff', 'reference_price_diff_diff'])),\n",
    "    ('wap_expanding_mean', ExpandingMeanFeatures(['wap'])),\n",
    "    ('drop_columns', DropColumns(drop_columns)),\n",
    "#     ('missing_value_imputer', MissingValueImputer(['far_price', 'near_price'])),\n",
    "    # ('forward_fill', ForwardFillValues()),\n",
    "    # ('fill_zero', FillZero()),\n",
    "    # ('fill_one', FillOne()),\n",
    "    # ('preprocessor', DataFrameWrapper(preprocessor, columns_to_keep)),\n",
    "    ('drop_grouping_columns', DropColumns(['stock_id', 'date_id'])),\n",
    "    # ('scaler', DataFrameWrapper(StandardScaler())),\n",
    "    # ('poly', PolynomialFeaturesWrapper(2)),\n",
    "])\n",
    "\n",
    "import warnings\n",
    "\n",
    "with warnings.catch_warnings():\n",
    "    warnings.simplefilter(\"ignore\", category=pd.errors.SettingWithCopyWarning)\n",
    "    train_transformed = pipeline.fit_transform(train)\n",
    "    test_transformed = pipeline.transform(test)"
   ]
  },
  {
   "cell_type": "code",
   "execution_count": 7,
   "metadata": {},
   "outputs": [],
   "source": [
    "X = train_transformed\n",
    "X_test = test_transformed"
   ]
  },
  {
   "cell_type": "markdown",
   "metadata": {},
   "source": [
    "All feature transformations should be combined into a generate_feature() function. This can then be applied to the test data will in the for loop for the Optiver API."
   ]
  },
  {
   "cell_type": "code",
   "execution_count": 8,
   "metadata": {},
   "outputs": [],
   "source": [
    "def generate_features(cumulative_test_df, current_test, pipeline):\n",
    "    transformed_df = pipeline.transform(cumulative_test_df)\n",
    "    \n",
    "    # Only return rows corresponding to the current test dataframe\n",
    "    return transformed_df.iloc[-len(current_test):]\n"
   ]
  },
  {
   "cell_type": "markdown",
   "metadata": {},
   "source": [
    "# Slicing\n",
    "\n",
    "Generally, don't change the cell below. It is used to slice the data into training and validation sets."
   ]
  },
  {
   "cell_type": "code",
   "execution_count": 9,
   "metadata": {},
   "outputs": [],
   "source": [
    "# imports\n",
    "from sklearn.model_selection import train_test_split\n",
    "\n",
    "# X_train, X_test, y_train, y_test = train_test_split(X, y, test_size=0.2, random_state=42)\n",
    "X_train = X\n",
    "y_train = y "
   ]
  },
  {
   "cell_type": "markdown",
   "metadata": {},
   "source": [
    "# Model Development"
   ]
  },
  {
   "cell_type": "code",
   "execution_count": 10,
   "metadata": {},
   "outputs": [],
   "source": [
    "import xgboost as xgb"
   ]
  },
  {
   "cell_type": "code",
   "execution_count": 17,
   "metadata": {},
   "outputs": [
    {
     "data": {
      "text/html": [
       "<style>#sk-container-id-2 {color: black;background-color: white;}#sk-container-id-2 pre{padding: 0;}#sk-container-id-2 div.sk-toggleable {background-color: white;}#sk-container-id-2 label.sk-toggleable__label {cursor: pointer;display: block;width: 100%;margin-bottom: 0;padding: 0.3em;box-sizing: border-box;text-align: center;}#sk-container-id-2 label.sk-toggleable__label-arrow:before {content: \"▸\";float: left;margin-right: 0.25em;color: #696969;}#sk-container-id-2 label.sk-toggleable__label-arrow:hover:before {color: black;}#sk-container-id-2 div.sk-estimator:hover label.sk-toggleable__label-arrow:before {color: black;}#sk-container-id-2 div.sk-toggleable__content {max-height: 0;max-width: 0;overflow: hidden;text-align: left;background-color: #f0f8ff;}#sk-container-id-2 div.sk-toggleable__content pre {margin: 0.2em;color: black;border-radius: 0.25em;background-color: #f0f8ff;}#sk-container-id-2 input.sk-toggleable__control:checked~div.sk-toggleable__content {max-height: 200px;max-width: 100%;overflow: auto;}#sk-container-id-2 input.sk-toggleable__control:checked~label.sk-toggleable__label-arrow:before {content: \"▾\";}#sk-container-id-2 div.sk-estimator input.sk-toggleable__control:checked~label.sk-toggleable__label {background-color: #d4ebff;}#sk-container-id-2 div.sk-label input.sk-toggleable__control:checked~label.sk-toggleable__label {background-color: #d4ebff;}#sk-container-id-2 input.sk-hidden--visually {border: 0;clip: rect(1px 1px 1px 1px);clip: rect(1px, 1px, 1px, 1px);height: 1px;margin: -1px;overflow: hidden;padding: 0;position: absolute;width: 1px;}#sk-container-id-2 div.sk-estimator {font-family: monospace;background-color: #f0f8ff;border: 1px dotted black;border-radius: 0.25em;box-sizing: border-box;margin-bottom: 0.5em;}#sk-container-id-2 div.sk-estimator:hover {background-color: #d4ebff;}#sk-container-id-2 div.sk-parallel-item::after {content: \"\";width: 100%;border-bottom: 1px solid gray;flex-grow: 1;}#sk-container-id-2 div.sk-label:hover label.sk-toggleable__label {background-color: #d4ebff;}#sk-container-id-2 div.sk-serial::before {content: \"\";position: absolute;border-left: 1px solid gray;box-sizing: border-box;top: 0;bottom: 0;left: 50%;z-index: 0;}#sk-container-id-2 div.sk-serial {display: flex;flex-direction: column;align-items: center;background-color: white;padding-right: 0.2em;padding-left: 0.2em;position: relative;}#sk-container-id-2 div.sk-item {position: relative;z-index: 1;}#sk-container-id-2 div.sk-parallel {display: flex;align-items: stretch;justify-content: center;background-color: white;position: relative;}#sk-container-id-2 div.sk-item::before, #sk-container-id-2 div.sk-parallel-item::before {content: \"\";position: absolute;border-left: 1px solid gray;box-sizing: border-box;top: 0;bottom: 0;left: 50%;z-index: -1;}#sk-container-id-2 div.sk-parallel-item {display: flex;flex-direction: column;z-index: 1;position: relative;background-color: white;}#sk-container-id-2 div.sk-parallel-item:first-child::after {align-self: flex-end;width: 50%;}#sk-container-id-2 div.sk-parallel-item:last-child::after {align-self: flex-start;width: 50%;}#sk-container-id-2 div.sk-parallel-item:only-child::after {width: 0;}#sk-container-id-2 div.sk-dashed-wrapped {border: 1px dashed gray;margin: 0 0.4em 0.5em 0.4em;box-sizing: border-box;padding-bottom: 0.4em;background-color: white;}#sk-container-id-2 div.sk-label label {font-family: monospace;font-weight: bold;display: inline-block;line-height: 1.2em;}#sk-container-id-2 div.sk-label-container {text-align: center;}#sk-container-id-2 div.sk-container {/* jupyter's `normalize.less` sets `[hidden] { display: none; }` but bootstrap.min.css set `[hidden] { display: none !important; }` so we also need the `!important` here to be able to override the default hidden behavior on the sphinx rendered scikit-learn.org. See: https://github.com/scikit-learn/scikit-learn/issues/21755 */display: inline-block !important;position: relative;}#sk-container-id-2 div.sk-text-repr-fallback {display: none;}</style><div id=\"sk-container-id-2\" class=\"sk-top-container\"><div class=\"sk-text-repr-fallback\"><pre>XGBRegressor(base_score=None, booster=None, callbacks=None,\n",
       "             colsample_bylevel=None, colsample_bynode=None,\n",
       "             colsample_bytree=0.8, early_stopping_rounds=None,\n",
       "             enable_categorical=False, eval_metric=None, feature_types=None,\n",
       "             gamma=None, gpu_id=0, grow_policy=None, importance_type=None,\n",
       "             interaction_constraints=None, learning_rate=0.1, max_bin=None,\n",
       "             max_cat_threshold=None, max_cat_to_onehot=None,\n",
       "             max_delta_step=None, max_depth=15, max_leaves=None,\n",
       "             min_child_weight=None, missing=nan, monotone_constraints=None,\n",
       "             n_estimators=100, n_jobs=None, num_parallel_tree=None,\n",
       "             predictor=None, random_state=None, ...)</pre><b>In a Jupyter environment, please rerun this cell to show the HTML representation or trust the notebook. <br />On GitHub, the HTML representation is unable to render, please try loading this page with nbviewer.org.</b></div><div class=\"sk-container\" hidden><div class=\"sk-item\"><div class=\"sk-estimator sk-toggleable\"><input class=\"sk-toggleable__control sk-hidden--visually\" id=\"sk-estimator-id-2\" type=\"checkbox\" checked><label for=\"sk-estimator-id-2\" class=\"sk-toggleable__label sk-toggleable__label-arrow\">XGBRegressor</label><div class=\"sk-toggleable__content\"><pre>XGBRegressor(base_score=None, booster=None, callbacks=None,\n",
       "             colsample_bylevel=None, colsample_bynode=None,\n",
       "             colsample_bytree=0.8, early_stopping_rounds=None,\n",
       "             enable_categorical=False, eval_metric=None, feature_types=None,\n",
       "             gamma=None, gpu_id=0, grow_policy=None, importance_type=None,\n",
       "             interaction_constraints=None, learning_rate=0.1, max_bin=None,\n",
       "             max_cat_threshold=None, max_cat_to_onehot=None,\n",
       "             max_delta_step=None, max_depth=15, max_leaves=None,\n",
       "             min_child_weight=None, missing=nan, monotone_constraints=None,\n",
       "             n_estimators=100, n_jobs=None, num_parallel_tree=None,\n",
       "             predictor=None, random_state=None, ...)</pre></div></div></div></div></div>"
      ],
      "text/plain": [
       "XGBRegressor(base_score=None, booster=None, callbacks=None,\n",
       "             colsample_bylevel=None, colsample_bynode=None,\n",
       "             colsample_bytree=0.8, early_stopping_rounds=None,\n",
       "             enable_categorical=False, eval_metric=None, feature_types=None,\n",
       "             gamma=None, gpu_id=0, grow_policy=None, importance_type=None,\n",
       "             interaction_constraints=None, learning_rate=0.1, max_bin=None,\n",
       "             max_cat_threshold=None, max_cat_to_onehot=None,\n",
       "             max_delta_step=None, max_depth=15, max_leaves=None,\n",
       "             min_child_weight=None, missing=nan, monotone_constraints=None,\n",
       "             n_estimators=100, n_jobs=None, num_parallel_tree=None,\n",
       "             predictor=None, random_state=None, ...)"
      ]
     },
     "execution_count": 17,
     "metadata": {},
     "output_type": "execute_result"
    }
   ],
   "source": [
    "# setup xgboost regressor\n",
    "regressor = xgb.XGBRegressor(\n",
    "    n_estimators=100,\n",
    "    objective='reg:squarederror',\n",
    "    learning_rate=0.1,\n",
    "    max_depth=15,\n",
    "    subsample=0.8,\n",
    "    colsample_bytree=0.8,\n",
    "    tree_method='gpu_hist',\n",
    "    gpu_id=0\n",
    ")\n",
    "\n",
    "# train model\n",
    "regressor.fit(X_train, y_train)"
   ]
  },
  {
   "cell_type": "code",
   "execution_count": 18,
   "metadata": {},
   "outputs": [
    {
     "name": "stdout",
     "output_type": "stream",
     "text": [
      "Mean Absolute Error on the test set: 6.0020\n",
      "Mean Absolute Error on the training set: 5.5945\n"
     ]
    }
   ],
   "source": [
    "from sklearn.metrics import mean_absolute_error\n",
    "\n",
    "predictions = regressor.predict(X_test)\n",
    "mae = mean_absolute_error(y_test, predictions)\n",
    "print(f\"Mean Absolute Error on the test set: {mae:.4f}\")\n",
    "\n",
    "predictions2 = regressor.predict(X_train)\n",
    "mae2 = mean_absolute_error(y_train, predictions2)\n",
    "print(f\"Mean Absolute Error on the training set: {mae2:.4f}\")"
   ]
  },
  {
   "cell_type": "code",
   "execution_count": 14,
   "metadata": {},
   "outputs": [
    {
     "data": {
      "image/png": "[encoded data removed]",
      "text/plain": [
       "<Figure size 720x432 with 1 Axes>"
      ]
     },
     "metadata": {
      "needs_background": "light"
     },
     "output_type": "display_data"
    }
   ],
   "source": [
    "plot_predictions(y_test, predictions)"
   ]
  },
  {
   "cell_type": "code",
   "execution_count": 15,
   "metadata": {},
   "outputs": [
    {
     "data": {
      "image/png": "[encoded data removed]",
      "text/plain": [
       "<Figure size 720x432 with 1 Axes>"
      ]
     },
     "metadata": {
      "needs_background": "light"
     },
     "output_type": "display_data"
    }
   ],
   "source": [
    "plot_predictions(y_train, predictions2)"
   ]
  },
  {
   "cell_type": "code",
   "execution_count": 16,
   "metadata": {},
   "outputs": [
    {
     "name": "stdout",
     "output_type": "stream",
     "text": [
      "-27.257282 44.97493\n"
     ]
    }
   ],
   "source": [
    "print(predictions.min(), predictions.max())"
   ]
  },
  {
   "cell_type": "markdown",
   "metadata": {},
   "source": [
    "# Generating Predictions\n",
    "\n",
    "Only for Kaggle:\n",
    "When uploading notebook, make sure to add the Optiver data on the right side of the screen."
   ]
  },
  {
   "cell_type": "code",
   "execution_count": 51,
   "metadata": {},
   "outputs": [],
   "source": [
    "if kaggle_environment:\n",
    "    import optiver2023\n",
    "    env = optiver2023.make_env()\n",
    "    iter_test = env.iter_test()"
   ]
  },
  {
   "cell_type": "code",
   "execution_count": 52,
   "metadata": {},
   "outputs": [],
   "source": [
    "# Uncomment this cell to try to get unstuck from having to restart and run the whole notebook again\n",
    "# submit_dummy_predictions(env, sample_prediction)"
   ]
  },
  {
   "cell_type": "code",
   "execution_count": 53,
   "metadata": {},
   "outputs": [],
   "source": [
    "# if kaggle_environment:\n",
    "#     # To count how many time the \"for loop\" runs.\n",
    "#     counter = 0\n",
    "\n",
    "#     # init 3 empty lists\n",
    "#     # test_ls, revealed_targets_ls, sample_prediction_ls = [], [], []\n",
    "#     cumulative_test_df = pd.DataFrame()\n",
    "\n",
    "#     for (test_in, revealed_targets, sample_prediction) in iter_test:\n",
    "#         # Append the dataframe that API return into the list.\n",
    "#         # test_ls.append(test_in.copy())\n",
    "#         # revealed_targets_ls.append(revealed_targets.copy())\n",
    "#         # sample_prediction_ls.append(sample_prediction.copy())\n",
    "\n",
    "#         recent_rows = cumulative_test_df.tail(2000)\n",
    "#         cumulative_test_df = pd.concat([recent_rows, test_in], axis=0, ignore_index=True)\n",
    "\n",
    "#         # Generate features\n",
    "#         test_transformed = generate_features(cumulative_test_df, test_in, pipeline)\n",
    "\n",
    "#         # Writes our predictions \n",
    "#         sample_prediction[\"target\"] = model.predict(test_transformed)\n",
    "        \n",
    "#         # This line submit our predictions.\n",
    "#         env.predict(sample_prediction)\n",
    "#         counter += 1\n",
    "\n",
    "#     print('\\n', '=' * 50, sep=\"\")\n",
    "#     print(f\"counter: {counter}\")"
   ]
  },
  {
   "cell_type": "code",
   "execution_count": 54,
   "metadata": {},
   "outputs": [],
   "source": [
    "if kaggle_environment:\n",
    "    # To count how many time the \"for loop\" runs.\n",
    "    counter = 0\n",
    "\n",
    "    # init 3 empty lists\n",
    "    # test_ls, revealed_targets_ls, sample_prediction_ls = [], [], []\n",
    "    cumulative_test_df = pd.DataFrame()\n",
    "\n",
    "    for (test_in, revealed_targets, sample_prediction) in iter_test:\n",
    "        # Append the dataframe that API return into the list.\n",
    "        # test_ls.append(test_in.copy())\n",
    "        # revealed_targets_ls.append(revealed_targets.copy())\n",
    "        # sample_prediction_ls.append(sample_prediction.copy())\n",
    "\n",
    "        test_in['target'] = 0\n",
    "        current_date_id = test_in.iloc[0]['date_id']\n",
    "        cumulative_test_df = pd.concat([cumulative_test_df, test_in], axis=0, ignore_index=True)\n",
    "#         if len(cumulative_test_df.columns) > 0:\n",
    "        cumulative_test_df = cumulative_test_df[cumulative_test_df['date_id'] == current_date_id]\n",
    "#             cumulative_test_df = pd.concat([current_date_rows, test_in], axis=0, ignore_index=True)\n",
    "        print(f'{counter}: {cumulative_test_df.shape[0]}')\n",
    "\n",
    "        # Generate features\n",
    "        test_transformed = generate_features(cumulative_test_df, test_in, pipeline)\n",
    "\n",
    "        # Writes our predictions \n",
    "        sample_prediction[\"target\"] = model.predict(test_transformed)\n",
    "        \n",
    "        # This line submit our predictions.\n",
    "        env.predict(sample_prediction)\n",
    "        counter += 1\n",
    "\n",
    "    print('\\n', '=' * 50, sep=\"\")\n",
    "    print(f\"counter: {counter}\")"
   ]
  },
  {
   "cell_type": "code",
   "execution_count": 55,
   "metadata": {},
   "outputs": [],
   "source": [
    "# cumulative_test_df.to_csv('final_cumulative_2k_rows.csv')"
   ]
  },
  {
   "cell_type": "code",
   "execution_count": 56,
   "metadata": {},
   "outputs": [
    {
     "data": {
      "text/plain": [
       "81.03471690678968"
      ]
     },
     "execution_count": 56,
     "metadata": {},
     "output_type": "execute_result"
    }
   ],
   "source": [
    "y_test.var()"
   ]
  },
  {
   "cell_type": "code",
   "execution_count": null,
   "metadata": {},
   "outputs": [],
   "source": []
  },
  {
   "cell_type": "code",
   "execution_count": null,
   "metadata": {},
   "outputs": [],
   "source": []
  }
 ],
 "metadata": {
  "kaggle": {
   "accelerator": "none",
   "dataSources": [
    {
     "databundleVersionId": 7056235,
     "sourceId": 57891,
     "sourceType": "competition"
    }
   ],
   "dockerImageVersionId": 30558,
   "isGpuEnabled": false,
   "isInternetEnabled": false,
   "language": "python",
   "sourceType": "notebook"
  },
  "kernelspec": {
   "display_name": "Python 3 (ipykernel)",
   "language": "python",
   "name": "python3"
  },
  "language_info": {
   "codemirror_mode": {
    "name": "ipython",
    "version": 3
   },
   "file_extension": ".py",
   "mimetype": "text/x-python",
   "name": "python",
   "nbconvert_exporter": "python",
   "pygments_lexer": "ipython3",
   "version": "3.10.12"
  }
 },
 "nbformat": 4,
 "nbformat_minor": 4
}
