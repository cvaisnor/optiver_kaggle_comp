{
 "cells": [
  {
   "cell_type": "markdown",
   "metadata": {},
   "source": [
    "# Optiver Trading At The Close\n",
    "\n",
    "[Competition](https://www.kaggle.com/competitions/optiver-trading-at-the-close)\n",
    "\n",
    "[GitHub Repository](https://github.com/cvaisnor/DNN-Final-Project)\n",
    "\n",
    "[Google Slides Presentation](https://docs.google.com/presentation/d/1Xc5F1_NveFi1il3GqHej2aqVmklR_jZU4kx6ZJhiDEM/edit?usp=sharing)"
   ]
  },
  {
   "cell_type": "markdown",
   "metadata": {},
   "source": [
    "# General Imports"
   ]
  },
  {
   "cell_type": "code",
   "execution_count": null,
   "metadata": {},
   "outputs": [],
   "source": [
    "!pip show tensorflow"
   ]
  },
  {
   "cell_type": "code",
   "execution_count": 1,
   "metadata": {},
   "outputs": [],
   "source": [
    "import tensorflow as tf\n",
    "from tensorflow.keras.layers import GRU, Dropout, Dense\n",
    "from tensorflow.keras.models import Sequential"
   ]
  },
  {
   "cell_type": "code",
   "execution_count": 2,
   "metadata": {},
   "outputs": [],
   "source": [
    "import os\n",
    "import numpy as np\n",
    "import pandas as pd\n",
    "import importlib\n",
    "\n",
    "import helpers\n",
    "\n",
    "kaggle_environment = False # True if running on Kaggle, don't forget to add the dataset!\n",
    "\n",
    "from helpers.common import load_data, plot_predictions, submit_dummy_predictions\n",
    "from helpers.pipeline import LogFeatures, LagFeatures, RollingMeanFeatures, DiffFeatures, ExpandingMeanFeatures, \\\n",
    "ForwardFillValues, FillZero, DataFrameWrapper, PolynomialFeaturesWrapper, MissingValueImputer, DropColumns, FillOne\n",
    "\n",
    "if not kaggle_environment:\n",
    "    # Reload the modules\n",
    "    importlib.reload(helpers.common)\n",
    "    importlib.reload(helpers.pipeline)"
   ]
  },
  {
   "cell_type": "markdown",
   "metadata": {},
   "source": [
    "# Loading Data"
   ]
  },
  {
   "cell_type": "code",
   "execution_count": 3,
   "metadata": {},
   "outputs": [],
   "source": [
    "original_train, test, revealed_targets, sample_submission = load_data(kaggle_environment)"
   ]
  },
  {
   "cell_type": "code",
   "execution_count": 4,
   "metadata": {},
   "outputs": [],
   "source": [
    "split_ratio = 0.8  # 80% for training, 20% for testing\n",
    "split_idx = int(len(original_train) * split_ratio)\n",
    "\n",
    "train = original_train.iloc[:split_idx]\n",
    "test = original_train.iloc[split_idx:]\n",
    "\n",
    "train = train.dropna(subset=['target'])\n",
    "test = test.dropna(subset=['target'])\n",
    "\n",
    "# Subsample\n",
    "max_samples = 100000\n",
    "if train.shape[0] > max_samples:\n",
    "    train = train[-max_samples:]\n",
    "\n",
    "if test.shape[0] > max_samples:\n",
    "    test = test[-max_samples:]\n",
    "    \n",
    "# train = train.dropna()\n",
    "# test = test.dropna()\n",
    "\n",
    "# y = train['target'].values\n",
    "# y_test = test['target'].values"
   ]
  },
  {
   "cell_type": "code",
   "execution_count": 5,
   "metadata": {},
   "outputs": [
    {
     "name": "stdout",
     "output_type": "stream",
     "text": [
      "(100000, 17)\n",
      "(100000, 17)\n"
     ]
    }
   ],
   "source": [
    "print(train.shape)\n",
    "print(test.shape)"
   ]
  },
  {
   "cell_type": "code",
   "execution_count": 6,
   "metadata": {},
   "outputs": [
    {
     "data": {
      "text/html": [
       "<div>\n",
       "<style scoped>\n",
       "    .dataframe tbody tr th:only-of-type {\n",
       "        vertical-align: middle;\n",
       "    }\n",
       "\n",
       "    .dataframe tbody tr th {\n",
       "        vertical-align: top;\n",
       "    }\n",
       "\n",
       "    .dataframe thead th {\n",
       "        text-align: right;\n",
       "    }\n",
       "</style>\n",
       "<table border=\"1\" class=\"dataframe\">\n",
       "  <thead>\n",
       "    <tr style=\"text-align: right;\">\n",
       "      <th></th>\n",
       "      <th>stock_id</th>\n",
       "      <th>date_id</th>\n",
       "      <th>seconds_in_bucket</th>\n",
       "      <th>imbalance_size</th>\n",
       "      <th>imbalance_buy_sell_flag</th>\n",
       "      <th>reference_price</th>\n",
       "      <th>matched_size</th>\n",
       "      <th>far_price</th>\n",
       "      <th>near_price</th>\n",
       "      <th>bid_price</th>\n",
       "      <th>bid_size</th>\n",
       "      <th>ask_price</th>\n",
       "      <th>ask_size</th>\n",
       "      <th>wap</th>\n",
       "      <th>target</th>\n",
       "      <th>time_id</th>\n",
       "      <th>row_id</th>\n",
       "    </tr>\n",
       "  </thead>\n",
       "  <tbody>\n",
       "    <tr>\n",
       "      <th>5137980</th>\n",
       "      <td>0</td>\n",
       "      <td>471</td>\n",
       "      <td>500</td>\n",
       "      <td>1467081.79</td>\n",
       "      <td>-1</td>\n",
       "      <td>0.997344</td>\n",
       "      <td>36059637.12</td>\n",
       "      <td>0.997002</td>\n",
       "      <td>0.997002</td>\n",
       "      <td>0.997344</td>\n",
       "      <td>40845.00</td>\n",
       "      <td>0.997515</td>\n",
       "      <td>41785.76</td>\n",
       "      <td>0.997428</td>\n",
       "      <td>1.230240</td>\n",
       "      <td>25955</td>\n",
       "      <td>471_500_0</td>\n",
       "    </tr>\n",
       "    <tr>\n",
       "      <th>5137981</th>\n",
       "      <td>1</td>\n",
       "      <td>471</td>\n",
       "      <td>500</td>\n",
       "      <td>479742.36</td>\n",
       "      <td>-1</td>\n",
       "      <td>0.998503</td>\n",
       "      <td>15727852.06</td>\n",
       "      <td>0.997559</td>\n",
       "      <td>0.997821</td>\n",
       "      <td>0.998188</td>\n",
       "      <td>67894.26</td>\n",
       "      <td>0.999186</td>\n",
       "      <td>70246.53</td>\n",
       "      <td>0.998679</td>\n",
       "      <td>-23.149849</td>\n",
       "      <td>25955</td>\n",
       "      <td>471_500_1</td>\n",
       "    </tr>\n",
       "    <tr>\n",
       "      <th>5137982</th>\n",
       "      <td>2</td>\n",
       "      <td>471</td>\n",
       "      <td>500</td>\n",
       "      <td>199076.21</td>\n",
       "      <td>1</td>\n",
       "      <td>1.000145</td>\n",
       "      <td>39893400.17</td>\n",
       "      <td>1.000291</td>\n",
       "      <td>1.000242</td>\n",
       "      <td>0.999900</td>\n",
       "      <td>354946.30</td>\n",
       "      <td>1.000340</td>\n",
       "      <td>27630.45</td>\n",
       "      <td>1.000308</td>\n",
       "      <td>2.269745</td>\n",
       "      <td>25955</td>\n",
       "      <td>471_500_2</td>\n",
       "    </tr>\n",
       "    <tr>\n",
       "      <th>5137983</th>\n",
       "      <td>3</td>\n",
       "      <td>471</td>\n",
       "      <td>500</td>\n",
       "      <td>7322026.95</td>\n",
       "      <td>-1</td>\n",
       "      <td>0.997682</td>\n",
       "      <td>92111805.96</td>\n",
       "      <td>0.997035</td>\n",
       "      <td>0.997284</td>\n",
       "      <td>0.997682</td>\n",
       "      <td>6011.40</td>\n",
       "      <td>0.997732</td>\n",
       "      <td>4007.80</td>\n",
       "      <td>0.997712</td>\n",
       "      <td>0.849962</td>\n",
       "      <td>25955</td>\n",
       "      <td>471_500_3</td>\n",
       "    </tr>\n",
       "    <tr>\n",
       "      <th>5137984</th>\n",
       "      <td>4</td>\n",
       "      <td>471</td>\n",
       "      <td>500</td>\n",
       "      <td>1811912.82</td>\n",
       "      <td>-1</td>\n",
       "      <td>0.999935</td>\n",
       "      <td>61508071.65</td>\n",
       "      <td>0.999705</td>\n",
       "      <td>0.999705</td>\n",
       "      <td>0.999935</td>\n",
       "      <td>173.76</td>\n",
       "      <td>1.000108</td>\n",
       "      <td>120957.84</td>\n",
       "      <td>0.999936</td>\n",
       "      <td>-0.680089</td>\n",
       "      <td>25955</td>\n",
       "      <td>471_500_4</td>\n",
       "    </tr>\n",
       "    <tr>\n",
       "      <th>...</th>\n",
       "      <td>...</td>\n",
       "      <td>...</td>\n",
       "      <td>...</td>\n",
       "      <td>...</td>\n",
       "      <td>...</td>\n",
       "      <td>...</td>\n",
       "      <td>...</td>\n",
       "      <td>...</td>\n",
       "      <td>...</td>\n",
       "      <td>...</td>\n",
       "      <td>...</td>\n",
       "      <td>...</td>\n",
       "      <td>...</td>\n",
       "      <td>...</td>\n",
       "      <td>...</td>\n",
       "      <td>...</td>\n",
       "      <td>...</td>\n",
       "    </tr>\n",
       "    <tr>\n",
       "      <th>5237975</th>\n",
       "      <td>195</td>\n",
       "      <td>480</td>\n",
       "      <td>540</td>\n",
       "      <td>2440722.89</td>\n",
       "      <td>-1</td>\n",
       "      <td>1.000317</td>\n",
       "      <td>28280361.74</td>\n",
       "      <td>0.999734</td>\n",
       "      <td>0.999734</td>\n",
       "      <td>1.000317</td>\n",
       "      <td>32257.04</td>\n",
       "      <td>1.000434</td>\n",
       "      <td>319862.40</td>\n",
       "      <td>1.000328</td>\n",
       "      <td>2.310276</td>\n",
       "      <td>26454</td>\n",
       "      <td>480_540_195</td>\n",
       "    </tr>\n",
       "    <tr>\n",
       "      <th>5237976</th>\n",
       "      <td>196</td>\n",
       "      <td>480</td>\n",
       "      <td>540</td>\n",
       "      <td>349510.47</td>\n",
       "      <td>-1</td>\n",
       "      <td>1.000643</td>\n",
       "      <td>9187699.11</td>\n",
       "      <td>1.000129</td>\n",
       "      <td>1.000386</td>\n",
       "      <td>1.000643</td>\n",
       "      <td>205108.40</td>\n",
       "      <td>1.000900</td>\n",
       "      <td>93393.07</td>\n",
       "      <td>1.000819</td>\n",
       "      <td>-8.220077</td>\n",
       "      <td>26454</td>\n",
       "      <td>480_540_196</td>\n",
       "    </tr>\n",
       "    <tr>\n",
       "      <th>5237977</th>\n",
       "      <td>197</td>\n",
       "      <td>480</td>\n",
       "      <td>540</td>\n",
       "      <td>0.00</td>\n",
       "      <td>0</td>\n",
       "      <td>0.995789</td>\n",
       "      <td>12725436.10</td>\n",
       "      <td>0.995789</td>\n",
       "      <td>0.995789</td>\n",
       "      <td>0.995789</td>\n",
       "      <td>16790.66</td>\n",
       "      <td>0.995883</td>\n",
       "      <td>180038.32</td>\n",
       "      <td>0.995797</td>\n",
       "      <td>1.169443</td>\n",
       "      <td>26454</td>\n",
       "      <td>480_540_197</td>\n",
       "    </tr>\n",
       "    <tr>\n",
       "      <th>5237978</th>\n",
       "      <td>198</td>\n",
       "      <td>480</td>\n",
       "      <td>540</td>\n",
       "      <td>1000898.84</td>\n",
       "      <td>1</td>\n",
       "      <td>0.999210</td>\n",
       "      <td>94773271.05</td>\n",
       "      <td>0.999210</td>\n",
       "      <td>0.999210</td>\n",
       "      <td>0.998970</td>\n",
       "      <td>125631.72</td>\n",
       "      <td>0.999210</td>\n",
       "      <td>669893.00</td>\n",
       "      <td>0.999008</td>\n",
       "      <td>-1.540184</td>\n",
       "      <td>26454</td>\n",
       "      <td>480_540_198</td>\n",
       "    </tr>\n",
       "    <tr>\n",
       "      <th>5237979</th>\n",
       "      <td>199</td>\n",
       "      <td>480</td>\n",
       "      <td>540</td>\n",
       "      <td>1884285.71</td>\n",
       "      <td>-1</td>\n",
       "      <td>1.002129</td>\n",
       "      <td>24073677.32</td>\n",
       "      <td>1.000859</td>\n",
       "      <td>1.001494</td>\n",
       "      <td>1.002129</td>\n",
       "      <td>250081.44</td>\n",
       "      <td>1.002447</td>\n",
       "      <td>300167.56</td>\n",
       "      <td>1.002274</td>\n",
       "      <td>-6.530285</td>\n",
       "      <td>26454</td>\n",
       "      <td>480_540_199</td>\n",
       "    </tr>\n",
       "  </tbody>\n",
       "</table>\n",
       "<p>100000 rows × 17 columns</p>\n",
       "</div>"
      ],
      "text/plain": [
       "         stock_id  date_id  seconds_in_bucket  imbalance_size  \\\n",
       "5137980         0      471                500      1467081.79   \n",
       "5137981         1      471                500       479742.36   \n",
       "5137982         2      471                500       199076.21   \n",
       "5137983         3      471                500      7322026.95   \n",
       "5137984         4      471                500      1811912.82   \n",
       "...           ...      ...                ...             ...   \n",
       "5237975       195      480                540      2440722.89   \n",
       "5237976       196      480                540       349510.47   \n",
       "5237977       197      480                540            0.00   \n",
       "5237978       198      480                540      1000898.84   \n",
       "5237979       199      480                540      1884285.71   \n",
       "\n",
       "         imbalance_buy_sell_flag  reference_price  matched_size  far_price  \\\n",
       "5137980                       -1         0.997344   36059637.12   0.997002   \n",
       "5137981                       -1         0.998503   15727852.06   0.997559   \n",
       "5137982                        1         1.000145   39893400.17   1.000291   \n",
       "5137983                       -1         0.997682   92111805.96   0.997035   \n",
       "5137984                       -1         0.999935   61508071.65   0.999705   \n",
       "...                          ...              ...           ...        ...   \n",
       "5237975                       -1         1.000317   28280361.74   0.999734   \n",
       "5237976                       -1         1.000643    9187699.11   1.000129   \n",
       "5237977                        0         0.995789   12725436.10   0.995789   \n",
       "5237978                        1         0.999210   94773271.05   0.999210   \n",
       "5237979                       -1         1.002129   24073677.32   1.000859   \n",
       "\n",
       "         near_price  bid_price   bid_size  ask_price   ask_size       wap  \\\n",
       "5137980    0.997002   0.997344   40845.00   0.997515   41785.76  0.997428   \n",
       "5137981    0.997821   0.998188   67894.26   0.999186   70246.53  0.998679   \n",
       "5137982    1.000242   0.999900  354946.30   1.000340   27630.45  1.000308   \n",
       "5137983    0.997284   0.997682    6011.40   0.997732    4007.80  0.997712   \n",
       "5137984    0.999705   0.999935     173.76   1.000108  120957.84  0.999936   \n",
       "...             ...        ...        ...        ...        ...       ...   \n",
       "5237975    0.999734   1.000317   32257.04   1.000434  319862.40  1.000328   \n",
       "5237976    1.000386   1.000643  205108.40   1.000900   93393.07  1.000819   \n",
       "5237977    0.995789   0.995789   16790.66   0.995883  180038.32  0.995797   \n",
       "5237978    0.999210   0.998970  125631.72   0.999210  669893.00  0.999008   \n",
       "5237979    1.001494   1.002129  250081.44   1.002447  300167.56  1.002274   \n",
       "\n",
       "            target  time_id       row_id  \n",
       "5137980   1.230240    25955    471_500_0  \n",
       "5137981 -23.149849    25955    471_500_1  \n",
       "5137982   2.269745    25955    471_500_2  \n",
       "5137983   0.849962    25955    471_500_3  \n",
       "5137984  -0.680089    25955    471_500_4  \n",
       "...            ...      ...          ...  \n",
       "5237975   2.310276    26454  480_540_195  \n",
       "5237976  -8.220077    26454  480_540_196  \n",
       "5237977   1.169443    26454  480_540_197  \n",
       "5237978  -1.540184    26454  480_540_198  \n",
       "5237979  -6.530285    26454  480_540_199  \n",
       "\n",
       "[100000 rows x 17 columns]"
      ]
     },
     "execution_count": 6,
     "metadata": {},
     "output_type": "execute_result"
    }
   ],
   "source": [
    "test"
   ]
  },
  {
   "cell_type": "code",
   "execution_count": 7,
   "metadata": {},
   "outputs": [],
   "source": [
    "# # Restructure training and test sets into RNN compatible training sequences\n",
    "# # Assign Variables\n",
    "\n",
    "# def generate_sequences(data, sequence_size, prediction_size, step_size, num_sequences):\n",
    "#     past_sequences = []\n",
    "#     future_prices = []\n",
    "#     total_possible_sequences = (len(data) - prediction_size - sequence_size) // step_size\n",
    "#     starting_sequence = total_possible_sequences - num_sequences\n",
    "\n",
    "#     print (f'Data length: {len(data)}, starting_sequence: {starting_sequence}')\n",
    "\n",
    "#     for i in range(starting_sequence, total_possible_sequences):\n",
    "#         start_index = i * step_size\n",
    "#         end_index = start_index + sequence_size\n",
    "#         prediction_end_index = end_index + prediction_size\n",
    "\n",
    "#         if prediction_end_index < len(data):\n",
    "#           past_sequence = data.iloc[start_index:end_index, :].values\n",
    "#           future_price_sequence = data.iloc[end_index:prediction_end_index, data.columns.get_loc('Close')].values\n",
    "\n",
    "#           past_sequences.append(past_sequence)\n",
    "#           future_prices.append(future_price_sequence)\n",
    "\n",
    "#         else:\n",
    "#             print(f'ERROR: Calculations were incorrect start index {start_index}, end index {end_index}, prediction end index {prediction_end_index}')\n",
    "\n",
    "#     return np.array(past_sequences), np.array(future_prices)\n",
    "\n",
    "# num_train_samples = train.shape[0]\n",
    "# num_test_samples = train.shape[0]\n",
    "# num_training_sequences = 3500\n",
    "# num_test_sequences = 200\n",
    "# prediction_size = 1\n",
    "# step_size = 1\n",
    "\n",
    "# print('Creating training data')\n",
    "# train_inputs, train_outputs = generate_sequences(\n",
    "#     train,\n",
    "#     num_train_samples,\n",
    "#     prediction_size,\n",
    "#     step_size,\n",
    "#     num_training_sequences\n",
    "# )\n",
    "\n",
    "# print('Creating test data')\n",
    "# test_inputs, test_outputs = generate_sequences(\n",
    "#     test,\n",
    "#     num_test_samples,\n",
    "#     prediction_size,\n",
    "#     step_size,\n",
    "#     num_test_sequences\n",
    "# )\n"
   ]
  },
  {
   "cell_type": "markdown",
   "metadata": {},
   "source": [
    "# Feature Engineering Section"
   ]
  },
  {
   "cell_type": "code",
   "execution_count": 8,
   "metadata": {},
   "outputs": [
    {
     "name": "stdout",
     "output_type": "stream",
     "text": [
      "CPU times: user 1.26 s, sys: 137 ms, total: 1.4 s\n",
      "Wall time: 1.4 s\n"
     ]
    }
   ],
   "source": [
    "%%time\n",
    "from sklearn.pipeline import Pipeline\n",
    "from sklearn.compose import ColumnTransformer\n",
    "from sklearn.preprocessing import OneHotEncoder, StandardScaler\n",
    "\n",
    "# drop_columns=['target', 'bid_size', 'ask_size', 'imbalance_size', 'matched_size', 'time_id', 'row_id', 'currently_scored']\n",
    "# drop_columns=['target', 'bid_size', 'ask_size', 'imbalance_size', 'matched_size', 'time_id', 'row_id', 'currently_scored']\n",
    "drop_columns=['bid_size', 'ask_size', 'imbalance_size', 'matched_size', 'time_id', 'row_id', 'currently_scored']\n",
    "\n",
    "# Main Pipeline\n",
    "pipeline = Pipeline([\n",
    "    ('logs', LogFeatures(['imbalance_size', 'matched_size', 'bid_size', 'ask_size'])),\n",
    "    ('wap_lags', LagFeatures(['wap'], [1, 6], 1.0)),\n",
    "    ('matched_size_lags', LagFeatures(['matched_size'], [1, 6], 0.0)),\n",
    "    ('wap_rolling_means', RollingMeanFeatures(['wap'], [2])),\n",
    "    ('diff_features', DiffFeatures(['wap', 'imbalance_buy_sell_flag', 'matched_size_log', 'ask_price', 'reference_price'])),\n",
    "    ('diff_features_2', DiffFeatures(['wap_diff', 'matched_size_log_diff', 'ask_price_diff', 'reference_price_diff'])),\n",
    "    ('diff_features_3', DiffFeatures(['wap_diff_diff', 'matched_size_log_diff_diff', 'ask_price_diff_diff', 'reference_price_diff_diff'])),\n",
    "    ('wap_expanding_mean', ExpandingMeanFeatures(['wap'])),\n",
    "    ('drop_columns', DropColumns(drop_columns)),\n",
    "#     ('missing_value_imputer', MissingValueImputer(['far_price', 'near_price'])),\n",
    "    ('forward_fill', ForwardFillValues()),\n",
    "    # ('fill_zero', FillZero()),\n",
    "    ('fill_one', FillOne()),\n",
    "    # ('preprocessor', DataFrameWrapper(preprocessor, columns_to_keep)),\n",
    "    # ('drop_grouping_columns', DropColumns(['stock_id', 'date_id'])),\n",
    "    ('scaler', DataFrameWrapper(StandardScaler())),\n",
    "    # ('poly', PolynomialFeaturesWrapper(2)),\n",
    "])\n",
    "\n",
    "import warnings\n",
    "\n",
    "with warnings.catch_warnings():\n",
    "    warnings.simplefilter(\"ignore\", category=pd.errors.SettingWithCopyWarning)\n",
    "    train_preprocessed = pipeline.fit_transform(train)\n",
    "    test_preprocessed = pipeline.transform(test)"
   ]
  },
  {
   "cell_type": "code",
   "execution_count": 9,
   "metadata": {},
   "outputs": [],
   "source": [
    "# X = train_transformed\n",
    "# X_test = test_transformed"
   ]
  },
  {
   "cell_type": "code",
   "execution_count": 10,
   "metadata": {},
   "outputs": [
    {
     "data": {
      "text/plain": [
       "stock_id                           float64\n",
       "date_id                            float64\n",
       "seconds_in_bucket                  float64\n",
       "imbalance_buy_sell_flag            float64\n",
       "reference_price                    float64\n",
       "far_price                          float64\n",
       "near_price                         float64\n",
       "bid_price                          float64\n",
       "ask_price                          float64\n",
       "wap                                float64\n",
       "target                             float64\n",
       "imbalance_size_log                 float64\n",
       "matched_size_log                   float64\n",
       "bid_size_log                       float64\n",
       "ask_size_log                       float64\n",
       "wap_lag_1                          float64\n",
       "wap_lag_6                          float64\n",
       "matched_size_lag_1                 float64\n",
       "matched_size_lag_6                 float64\n",
       "wap_rolling_mean2                  float64\n",
       "wap_diff                           float64\n",
       "imbalance_buy_sell_flag_diff       float64\n",
       "matched_size_log_diff              float64\n",
       "ask_price_diff                     float64\n",
       "reference_price_diff               float64\n",
       "wap_diff_diff                      float64\n",
       "matched_size_log_diff_diff         float64\n",
       "ask_price_diff_diff                float64\n",
       "reference_price_diff_diff          float64\n",
       "wap_diff_diff_diff                 float64\n",
       "matched_size_log_diff_diff_diff    float64\n",
       "ask_price_diff_diff_diff           float64\n",
       "reference_price_diff_diff_diff     float64\n",
       "wap_expanding_mean                 float64\n",
       "dtype: object"
      ]
     },
     "execution_count": 10,
     "metadata": {},
     "output_type": "execute_result"
    }
   ],
   "source": [
    "train_preprocessed.dtypes"
   ]
  },
  {
   "cell_type": "code",
   "execution_count": 11,
   "metadata": {},
   "outputs": [],
   "source": [
    "# X['wap_lag_1']\n",
    "# X[seconds_in_bucket]"
   ]
  },
  {
   "cell_type": "code",
   "execution_count": 12,
   "metadata": {},
   "outputs": [],
   "source": [
    "from tensorflow.keras.preprocessing.sequence import pad_sequences\n",
    "import numpy as np\n",
    "\n",
    "def create_predict_sequences(df, feature_columns, max_sequence_length=60):\n",
    "    \"\"\"\n",
    "    Create sequences for RNN predictions.\n",
    "\n",
    "    :param df: Pandas DataFrame containing the data.\n",
    "    :param feature_columns: List of column names to be used as features.\n",
    "    :param max_sequence_length: Maximum length of sequences.\n",
    "    :return: Tuple (X, y) of sequences and their corresponding targets.\n",
    "    \"\"\"\n",
    "    X = []\n",
    "\n",
    "    for _, group in df.groupby(['stock_id', 'date_id']):\n",
    "        sequences = group[feature_columns].values\n",
    "        padded_sequences = pad_sequences([sequences], maxlen=max_sequence_length, padding='pre', dtype='float32')[0]\n",
    "\n",
    "        X.append(padded_sequences)\n",
    "\n",
    "    return np.array(X)"
   ]
  },
  {
   "cell_type": "code",
   "execution_count": 15,
   "metadata": {},
   "outputs": [],
   "source": [
    "from tensorflow.keras.preprocessing.sequence import pad_sequences\n",
    "import numpy as np\n",
    "\n",
    "def create_sequences(df, feature_columns, max_sequence_length=60, step_size=3):\n",
    "    \"\"\"\n",
    "    Create sequences for RNN training, aiming to predict all values for each day.\n",
    "\n",
    "    :param df: Pandas DataFrame containing the data.\n",
    "    :param feature_columns: List of column names to be used as features.\n",
    "    :param max_sequence_length: Maximum length of sequences.\n",
    "    :return: Tuple (X, y) of sequences and their corresponding targets.\n",
    "    \"\"\"\n",
    "    X = []  # Features\n",
    "    y = []  # Targets\n",
    "\n",
    "    # Group by 'stock_id' and 'date_id'\n",
    "    for _, group in df.groupby(['stock_id', 'date_id']):\n",
    "        # Extract features and targets\n",
    "        group_features = group[feature_columns].values\n",
    "        group_targets = group['target'].values\n",
    "\n",
    "        # Generate multiple sequences for each group\n",
    "        for i in range(0, len(group), step_size):\n",
    "            # Define the end of the sequence\n",
    "            end_idx = i + 5\n",
    "\n",
    "            # If there are not enough previous timesteps for a full sequence,\n",
    "            # pad the sequence at the beginning\n",
    "            if end_idx < max_sequence_length:\n",
    "                sequence = group_features[:end_idx]\n",
    "                sequence = pad_sequences([sequence], maxlen=max_sequence_length, padding='pre', dtype='float32')[0]\n",
    "            else:\n",
    "                start_idx = end_idx - max_sequence_length\n",
    "                sequence = group_features[start_idx:end_idx]\n",
    "\n",
    "            X.append(sequence)\n",
    "            y.append(group_targets[i])\n",
    "\n",
    "    return np.array(X), np.array(y)\n",
    "\n",
    "feature_columns = train_preprocessed.columns.difference(['stock_id', 'date_id', 'target'])\n",
    "X_train, y_train = create_sequences(train_preprocessed, feature_columns)\n",
    "X_test, y_test = create_sequences(test_preprocessed, feature_columns)\n"
   ]
  },
  {
   "cell_type": "code",
   "execution_count": 16,
   "metadata": {},
   "outputs": [
    {
     "name": "stdout",
     "output_type": "stream",
     "text": [
      "Sequences: 34404, Samples per sequence: 60, number of features per sample 31\n"
     ]
    }
   ],
   "source": [
    "print(f'Sequences: {len(X_train)}, Samples per sequence: {len(X_train[0])}, number of features per sample {len(X_train[0][0])}')"
   ]
  },
  {
   "cell_type": "markdown",
   "metadata": {},
   "source": [
    "All feature transformations should be combined into a generate_feature() function. This can then be applied to the test data will in the for loop for the Optiver API."
   ]
  },
  {
   "cell_type": "code",
   "execution_count": 17,
   "metadata": {},
   "outputs": [],
   "source": [
    "def generate_features(cumulative_test_df, current_test, pipeline):\n",
    "    transformed_df = pipeline.transform(cumulative_test_df)\n",
    "\n",
    "    predict_sequences, _ = create_predict_sequences(transformed_df, feature_columns)\n",
    "\n",
    "    return predict_sequences    \n",
    "    # Only return rows corresponding to the current test dataframe\n",
    "    # return transformed_df.iloc[-len(current_test):]\n"
   ]
  },
  {
   "cell_type": "markdown",
   "metadata": {},
   "source": [
    "# Slicing\n",
    "\n",
    "Generally, don't change the cell below. It is used to slice the data into training and validation sets."
   ]
  },
  {
   "cell_type": "code",
   "execution_count": 18,
   "metadata": {},
   "outputs": [],
   "source": [
    "# imports\n",
    "# from sklearn.model_selection import train_test_split\n",
    "\n",
    "# # X_train, X_test, y_train, y_test = train_test_split(X, y, test_size=0.2, random_state=42)\n",
    "# X_train = X\n",
    "# y_train = y "
   ]
  },
  {
   "cell_type": "markdown",
   "metadata": {},
   "source": [
    "# Model Development"
   ]
  },
  {
   "cell_type": "code",
   "execution_count": 19,
   "metadata": {},
   "outputs": [
    {
     "name": "stdout",
     "output_type": "stream",
     "text": [
      "1076/1076 [==============================] - 149s 137ms/step - loss: 0.6017\n",
      "CPU times: user 2min 42s, sys: 1min 34s, total: 4min 16s\n",
      "Wall time: 2min 28s\n"
     ]
    }
   ],
   "source": [
    "%%time\n",
    "from tensorflow.keras.layers import GRU, Dropout, Dense\n",
    "from tensorflow.keras.models import Sequential\n",
    "\n",
    "tf.random.set_seed(0)\n",
    "Init = tf.keras.initializers.GlorotUniform(seed=0)\n",
    "\n",
    "num_features = 31\n",
    "num_predictions = 1\n",
    "gru_size = 200\n",
    "\n",
    "\n",
    "# Example: Reshape X_train to have 10 timesteps\n",
    "\n",
    "# num_timesteps = 600\n",
    "# subset_size = 20000\n",
    "\n",
    "# X_train_subset = X_train.iloc[-subset_size:]\n",
    "\n",
    "# # Adjust num_samples based on the subset size\n",
    "# num_samples = X_train_subset.shape[0] - num_timesteps + 1\n",
    "\n",
    "# # Initialize the reshaped training data array\n",
    "# X_train_reshaped = np.zeros((num_samples, num_timesteps, num_features))\n",
    "# y_train_subset = y_train[-X_train_reshaped.shape[0]:]\n",
    "\n",
    "\n",
    "# # Populate the reshaped array\n",
    "# for i in range(num_samples):\n",
    "#     X_train_reshaped[i] = X_train_subset.values[i:i+num_timesteps]\n",
    "\n",
    "# Now use the reshaped array for training\n",
    "# hist = rnn.fit(X_train_reshaped, y_train, epochs=5, batch_size=16, callbacks=callbacks)\n",
    "\n",
    "\n",
    "rnn = Sequential(\n",
    "    [\n",
    "        GRU(gru_size, return_sequences=True, input_shape=[None, num_features], name='GRU1', kernel_initializer=Init, recurrent_initializer=Init),\n",
    "        Dropout(.2, name='d1'),\n",
    "        GRU(gru_size, name='GRU2', kernel_initializer=Init, recurrent_initializer=Init),\n",
    "        Dropout(.2, name='d2'),\n",
    "        Dense(num_predictions, name='out', kernel_initializer=Init)\n",
    "    ],\n",
    "    name='RNN_model'\n",
    ")\n",
    "\n",
    "rnn.compile(optimizer='adam', loss='mean_absolute_error')\n",
    "callbacks = []\n",
    "hist = rnn.fit(X_train, y_train, epochs=1, batch_size=32, callbacks=callbacks)"
   ]
  },
  {
   "cell_type": "code",
   "execution_count": 20,
   "metadata": {},
   "outputs": [],
   "source": [
    "# %%time\n",
    "# import lightgbm as lgb\n",
    "\n",
    "\n",
    "# # lgbm = lgb.LGBMRegressor(n_jobs=-1, random_state=0, force_col_wise=True,\n",
    "# #                          verbose=-1, boosting_type='gbdt', num_leaves=10,\n",
    "# #                          reg_alpha=0, reg_lambda=0.2, objective='regression_l1')\n",
    "\n",
    "# # lgbm = lgb.LGBMRegressor(n_jobs=-1, random_state=0, objective='regression_l1', num_leaves=100)\n",
    "# lgbm = lgb.LGBMRegressor(n_jobs=-1, reg_lambda=0.2, random_state=0, num_leaves=650, boosting_type='gbdt', reg_alpha=0.2, objective='regression_l1')\n",
    "# lgbm.fit(X_train, y_train)\n",
    "# # lgbm.fit(X_train.drop(columns=['row_id', 'time_id', 'target']), y_train)\n"
   ]
  },
  {
   "cell_type": "code",
   "execution_count": 21,
   "metadata": {},
   "outputs": [],
   "source": [
    "model = rnn"
   ]
  },
  {
   "cell_type": "code",
   "execution_count": 22,
   "metadata": {},
   "outputs": [
    {
     "name": "stdout",
     "output_type": "stream",
     "text": [
      "1082/1082 [==============================] - 51s 47ms/step\n",
      "Mean Absolute Error on the test set: 0.4668\n",
      "1076/1076 [==============================] - 49s 46ms/step\n",
      "Mean Absolute Error on the training set: 0.5636\n"
     ]
    }
   ],
   "source": [
    "# lgbm.score(X_test, y_test)\n",
    "\n",
    "from sklearn.metrics import mean_absolute_error\n",
    "\n",
    "# predictions = model.predict(X_test.drop(columns=['row_id', 'time_id', 'target']))\n",
    "\n",
    "# X_test_subset = X_test.iloc[-subset_size:]\n",
    "\n",
    "# # Adjust num_samples based on the subset size\n",
    "# num_samples = X_test_subset.shape[0] - num_timesteps + 1\n",
    "\n",
    "# # Initialize the reshaped testing data array\n",
    "# X_test_reshaped = np.zeros((num_samples, num_timesteps, num_features))\n",
    "# y_test_subset = y_test[-X_test_reshaped.shape[0]:]\n",
    "\n",
    "\n",
    "# # Populate the reshaped array\n",
    "# for i in range(num_samples):\n",
    "#     X_test_reshaped[i] = X_test_subset.values[i:i+num_timesteps]\n",
    "\n",
    "\n",
    "predictions = model.predict(X_test)\n",
    "\n",
    "mae = mean_absolute_error(y_test, predictions)\n",
    "print(f\"Mean Absolute Error on the test set: {mae:.4f}\")\n",
    "# predictions2 = model.predict(X_train.drop(columns=['row_id', 'time_id', 'target']))\n",
    "predictions2 = model.predict(X_train)\n",
    "mae2 = mean_absolute_error(y_train, predictions2)\n",
    "print(f\"Mean Absolute Error on the training set: {mae2:.4f}\")"
   ]
  },
  {
   "cell_type": "code",
   "execution_count": null,
   "metadata": {},
   "outputs": [],
   "source": []
  },
  {
   "cell_type": "code",
   "execution_count": 23,
   "metadata": {},
   "outputs": [
    {
     "data": {
      "image/png": "[encoded data removed]",
      "text/plain": [
       "<Figure size 1000x600 with 1 Axes>"
      ]
     },
     "metadata": {},
     "output_type": "display_data"
    }
   ],
   "source": [
    "plot_predictions(y_test, predictions)"
   ]
  },
  {
   "cell_type": "code",
   "execution_count": 24,
   "metadata": {},
   "outputs": [
    {
     "data": {
      "image/png": "[encoded data removed]",
      "text/plain": [
       "<Figure size 1000x600 with 1 Axes>"
      ]
     },
     "metadata": {},
     "output_type": "display_data"
    }
   ],
   "source": [
    "plot_predictions(y_train, predictions2)"
   ]
  },
  {
   "cell_type": "code",
   "execution_count": 25,
   "metadata": {},
   "outputs": [
    {
     "name": "stdout",
     "output_type": "stream",
     "text": [
      "-3.841069 3.864067\n"
     ]
    }
   ],
   "source": [
    "print(predictions.min(), predictions.max())"
   ]
  },
  {
   "cell_type": "code",
   "execution_count": null,
   "metadata": {},
   "outputs": [],
   "source": [
    "# convert to numpy arrays\n",
    "# X_train = X_train.values\n",
    "# X_test = X_test.values"
   ]
  },
  {
   "cell_type": "code",
   "execution_count": null,
   "metadata": {},
   "outputs": [],
   "source": [
    "# # Uncomment to use NN as the model instead\n",
    "# # convert to numpy arrays\n",
    "# X_train = X_train.values\n",
    "# X_test = X_test.values\n",
    "# # creating the model and fitting it on the data from the original sklearn train test split\n",
    "# model = PyTorchMLP(input_size=X_train.shape[1], hidden_size=128)\n",
    "# model.fit(X_train, y_train, X_test, y_test, epochs=2, batch_size=256, learning_rate=0.001, device=device)"
   ]
  },
  {
   "cell_type": "markdown",
   "metadata": {},
   "source": [
    "# Generating Predictions\n",
    "\n",
    "Only for Kaggle:\n",
    "When uploading notebook, make sure to add the Optiver data on the right side of the screen."
   ]
  },
  {
   "cell_type": "code",
   "execution_count": null,
   "metadata": {},
   "outputs": [],
   "source": [
    "if kaggle_environment:\n",
    "    import optiver2023\n",
    "    env = optiver2023.make_env()\n",
    "    iter_test = env.iter_test()"
   ]
  },
  {
   "cell_type": "code",
   "execution_count": null,
   "metadata": {},
   "outputs": [],
   "source": [
    "# Uncomment this cell to try to get unstuck from having to restart and run the whole notebook again\n",
    "# submit_dummy_predictions(env, sample_prediction)"
   ]
  },
  {
   "cell_type": "code",
   "execution_count": null,
   "metadata": {},
   "outputs": [],
   "source": [
    "# if kaggle_environment:\n",
    "#     # To count how many time the \"for loop\" runs.\n",
    "#     counter = 0\n",
    "\n",
    "#     # init 3 empty lists\n",
    "#     # test_ls, revealed_targets_ls, sample_prediction_ls = [], [], []\n",
    "#     cumulative_test_df = pd.DataFrame()\n",
    "\n",
    "#     for (test_in, revealed_targets, sample_prediction) in iter_test:\n",
    "#         # Append the dataframe that API return into the list.\n",
    "#         # test_ls.append(test_in.copy())\n",
    "#         # revealed_targets_ls.append(revealed_targets.copy())\n",
    "#         # sample_prediction_ls.append(sample_prediction.copy())\n",
    "\n",
    "#         current_date_id = test_in.iloc[0]['date_id']\n",
    "#         current_date_rows = cumulative_test_df[cumulative_test_df['current_date_id'] == date_id_to_keep]\n",
    "#         cumulative_test_df = pd.concat([current_date_rows, test_in], axis=0, ignore_index=True)\n",
    "\n",
    "#         # Generate features\n",
    "#         test_transformed = generate_features(cumulative_test_df, test_in, pipeline)\n",
    "\n",
    "#         # Writes our predictions \n",
    "#         sample_prediction[\"target\"] = model.predict(test_transformed)\n",
    "        \n",
    "#         # This line submit our predictions.\n",
    "#         env.predict(sample_prediction)\n",
    "#         counter += 1\n",
    "\n",
    "#     print('\\n', '=' * 50, sep=\"\")\n",
    "#     print(f\"counter: {counter}\")"
   ]
  },
  {
   "cell_type": "code",
   "execution_count": null,
   "metadata": {},
   "outputs": [],
   "source": [
    "if kaggle_environment:\n",
    "    # To count how many time the \"for loop\" runs.\n",
    "    counter = 0\n",
    "\n",
    "    # init 3 empty lists\n",
    "    # test_ls, revealed_targets_ls, sample_prediction_ls = [], [], []\n",
    "    cumulative_test_df = pd.DataFrame()\n",
    "\n",
    "    for (test_in, revealed_targets, sample_prediction) in iter_test:\n",
    "        # Append the dataframe that API return into the list.\n",
    "        # test_ls.append(test_in.copy())\n",
    "        # revealed_targets_ls.append(revealed_targets.copy())\n",
    "        # sample_prediction_ls.append(sample_prediction.copy())\n",
    "\n",
    "        test_in['target'] = 0\n",
    "        current_date_id = test_in.iloc[0]['date_id']\n",
    "        cumulative_test_df = pd.concat([cumulative_test_df, test_in], axis=0, ignore_index=True)\n",
    "#         if len(cumulative_test_df.columns) > 0:\n",
    "        cumulative_test_df = cumulative_test_df[cumulative_test_df['date_id'] == current_date_id]\n",
    "#             cumulative_test_df = pd.concat([current_date_rows, test_in], axis=0, ignore_index=True)\n",
    "        print(f'{counter}: {cumulative_test_df.shape[0]}')\n",
    "\n",
    "        # Generate features\n",
    "        test_transformed = generate_features(cumulative_test_df, test_in, pipeline)\n",
    "\n",
    "        # Writes our predictions \n",
    "        sample_prediction[\"target\"] = model.predict(test_transformed)\n",
    "        \n",
    "        # This line submit our predictions.\n",
    "        env.predict(sample_prediction)\n",
    "        counter += 1\n",
    "\n",
    "    print('\\n', '=' * 50, sep=\"\")\n",
    "    print(f\"counter: {counter}\")"
   ]
  },
  {
   "cell_type": "code",
   "execution_count": null,
   "metadata": {},
   "outputs": [],
   "source": [
    "# cumulative_test_df.to_csv('file.csv')"
   ]
  },
  {
   "cell_type": "code",
   "execution_count": null,
   "metadata": {},
   "outputs": [],
   "source": [
    "y_test.var()"
   ]
  },
  {
   "cell_type": "code",
   "execution_count": null,
   "metadata": {},
   "outputs": [],
   "source": []
  },
  {
   "cell_type": "code",
   "execution_count": null,
   "metadata": {},
   "outputs": [],
   "source": []
  }
 ],
 "metadata": {
  "kaggle": {
   "accelerator": "none",
   "dataSources": [
    {
     "databundleVersionId": 7056235,
     "sourceId": 57891,
     "sourceType": "competition"
    }
   ],
   "dockerImageVersionId": 30558,
   "isGpuEnabled": false,
   "isInternetEnabled": false,
   "language": "python",
   "sourceType": "notebook"
  },
  "kernelspec": {
   "display_name": "Python 3 (ipykernel)",
   "language": "python",
   "name": "python3"
  },
  "language_info": {
   "codemirror_mode": {
    "name": "ipython",
    "version": 3
   },
   "file_extension": ".py",
   "mimetype": "text/x-python",
   "name": "python",
   "nbconvert_exporter": "python",
   "pygments_lexer": "ipython3",
   "version": "3.11.6"
  }
 },
 "nbformat": 4,
 "nbformat_minor": 4
}
